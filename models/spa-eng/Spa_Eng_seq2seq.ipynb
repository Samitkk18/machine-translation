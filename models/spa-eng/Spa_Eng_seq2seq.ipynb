{
  "nbformat": 4,
  "nbformat_minor": 0,
  "metadata": {
    "colab": {
      "name": "Spa-Eng-seq2seq.ipynb",
      "provenance": []
    },
    "kernelspec": {
      "name": "python3",
      "display_name": "Python 3"
    },
    "language_info": {
      "name": "python"
    },
    "accelerator": "GPU"
  },
  "cells": [
    {
      "cell_type": "code",
      "metadata": {
        "colab": {
          "base_uri": "https://localhost:8080/"
        },
        "id": "WdundVLN9uuC",
        "outputId": "f407350c-fc71-4b5d-8a4c-f3e4dc0fb4f2"
      },
      "source": [
        "from google.colab import drive\n",
        "drive.mount('/content/drive')"
      ],
      "execution_count": 1,
      "outputs": [
        {
          "output_type": "stream",
          "text": [
            "Mounted at /content/drive\n"
          ],
          "name": "stdout"
        }
      ]
    },
    {
      "cell_type": "code",
      "metadata": {
        "id": "SeaRh5cM-gx_"
      },
      "source": [
        "import os\n",
        "import gc\n",
        "import time\n",
        "import re\n",
        "import unicodedata\n",
        "\n",
        "import pandas as pd\n",
        "import numpy as np\n",
        "import matplotlib.pyplot as plt\n",
        "%matplotlib inline\n",
        "\n",
        "import tensorflow as tf\n",
        "from tensorflow.keras import backend as K\n",
        "\n",
        "from keras.preprocessing.text import Tokenizer\n",
        "from keras.preprocessing.sequence import pad_sequences"
      ],
      "execution_count": 2,
      "outputs": []
    },
    {
      "cell_type": "code",
      "metadata": {
        "id": "tjXcgTN5-y9G"
      },
      "source": [
        "# Global parameters\n",
        "#root folder\n",
        "root_folder='/content/drive/MyDrive/machine-translation/'\n",
        "#data_folder='.'\n",
        "data_folder_name='corpus/spa-eng'\n",
        "train_filename='spa.txt'\n",
        "\n",
        "# Variable for data directory\n",
        "DATA_PATH = os.path.abspath(os.path.join(root_folder, data_folder_name))\n",
        "train_filenamepath = os.path.abspath(os.path.join(DATA_PATH, train_filename))\n",
        "\n",
        "# Both train and test set are in the root data directory\n",
        "train_path = DATA_PATH\n",
        "test_path = DATA_PATH"
      ],
      "execution_count": 3,
      "outputs": []
    },
    {
      "cell_type": "code",
      "metadata": {
        "colab": {
          "base_uri": "https://localhost:8080/",
          "height": 35
        },
        "id": "9s6USIkr-1IH",
        "outputId": "286a8f43-5b5b-4aa5-fc07-ff94e59dfbc6"
      },
      "source": [
        "train_filenamepath"
      ],
      "execution_count": 4,
      "outputs": [
        {
          "output_type": "execute_result",
          "data": {
            "application/vnd.google.colaboratory.intrinsic+json": {
              "type": "string"
            },
            "text/plain": [
              "'/content/drive/MyDrive/machine-translation/corpus/spa-eng/spa.txt'"
            ]
          },
          "metadata": {
            "tags": []
          },
          "execution_count": 4
        }
      ]
    },
    {
      "cell_type": "code",
      "metadata": {
        "id": "hCUFwsvK-2fV"
      },
      "source": [
        "# Parameters for our model\n",
        "INPUT_COLUMN = 'input'\n",
        "TARGET_COLUMN = 'target'\n",
        "TARGET_FOR_INPUT = 'target_for_input'\n",
        "NUM_SAMPLES = 100000 #40000\n",
        "MAX_VOCAB_SIZE = 20000\n",
        "EMBEDDING_DIM = 128\n",
        "HIDDEN_DIM = 1024 #512\n",
        "\n",
        "BATCH_SIZE = 128  # Batch size for training.\n",
        "EPOCHS = 20  # Number of epochs to train for.\n",
        "\n",
        "ATTENTION_FUNC='general'"
      ],
      "execution_count": 7,
      "outputs": []
    },
    {
      "cell_type": "code",
      "metadata": {
        "id": "tEXwZbzO_EQ_"
      },
      "source": [
        "#Preprocessing the data\n",
        "# Some function to preprocess the text data, taken from the Neural machine translation with attention tutorial in Tensorflow\n",
        "def unicode_to_ascii(s):\n",
        "    return ''.join(c for c in unicodedata.normalize('NFD', s)\n",
        "        if unicodedata.category(c) != 'Mn')\n",
        "\n",
        "def preprocess_sentence(w):\n",
        "    ''' Preprocess the input text w applying lowercase, removing accents, \n",
        "    creating a space between a word and the punctuation following it and \n",
        "    replacing everything with space except (a-z, A-Z, \".\", \"?\", \"!\", \",\")\n",
        "    Input:\n",
        "        - w: a string, input text\n",
        "    Output:\n",
        "        - a string, the cleaned text\n",
        "    '''\n",
        "    w = unicode_to_ascii(w.lower().strip())\n",
        "\n",
        "    # creating a space between a word and the punctuation following it\n",
        "    # eg: \"he is a boy.\" => \"he is a boy .\"\n",
        "    # Reference:- https://stackoverflow.com/questions/3645931/python-padding-punctuation-with-white-spaces-keeping-punctuation\n",
        "    w = re.sub(r\"([?.!,¿])\", r\" \\1 \", w)\n",
        "    w = re.sub(r'[\" \"]+', \" \", w)\n",
        "\n",
        "    # replacing everything with space except (a-z, A-Z, \".\", \"?\", \"!\", \",\")\n",
        "    w = re.sub(r\"[^a-zA-Z?.!,¿]+\", \" \", w)\n",
        "\n",
        "    w = w.strip()\n",
        "\n",
        "    # adding a start and an end token to the sentence\n",
        "    # so that the model know when to start and stop predicting.\n",
        "    #w = '<start> ' + w + ' <end>'\n",
        "    \n",
        "    return w"
      ],
      "execution_count": 8,
      "outputs": []
    },
    {
      "cell_type": "code",
      "metadata": {
        "colab": {
          "base_uri": "https://localhost:8080/"
        },
        "id": "AEVxX1XF_KVX",
        "outputId": "940b1a4d-bb37-4c9b-e652-be57c9074ef7"
      },
      "source": [
        "# Load the dataset: sentence in english, sentence in spanish \n",
        "df=pd.read_csv(train_filenamepath, sep=\"\\t\", header=None, names=[TARGET_COLUMN,INPUT_COLUMN], usecols=[0,1], \n",
        "               nrows=NUM_SAMPLES)\n",
        "# Preprocess the input data\n",
        "input_data=df[INPUT_COLUMN].apply(lambda x : preprocess_sentence(x)).tolist()\n",
        "# Preprocess and include the end of sentence token to the target text\n",
        "target_data=df[TARGET_COLUMN].apply(lambda x : preprocess_sentence(x)+ ' <eos>').tolist()\n",
        "# Preprocess and include a start of setence token to the input text to the decoder, it is rigth shifted\n",
        "target_input_data=df[TARGET_COLUMN].apply(lambda x : '<sos> '+ preprocess_sentence(x)).tolist()\n",
        "\n",
        "print(input_data[:5])\n",
        "print(target_data[:5])\n",
        "print(target_input_data[:5])"
      ],
      "execution_count": 14,
      "outputs": [
        {
          "output_type": "stream",
          "text": [
            "['ve .', 'vete .', 'vaya .', 'vayase .', 'hola .']\n",
            "['go . <eos>', 'go . <eos>', 'go . <eos>', 'go . <eos>', 'hi . <eos>']\n",
            "['<sos> go .', '<sos> go .', '<sos> go .', '<sos> go .', '<sos> hi .']\n"
          ],
          "name": "stdout"
        }
      ]
    },
    {
      "cell_type": "code",
      "metadata": {
        "colab": {
          "base_uri": "https://localhost:8080/",
          "height": 419
        },
        "id": "zc7WSyWC_Oaf",
        "outputId": "40e38803-81ca-46d1-aaf1-fc0e79ffb9e9"
      },
      "source": [
        "df"
      ],
      "execution_count": 17,
      "outputs": [
        {
          "output_type": "execute_result",
          "data": {
            "text/html": [
              "<div>\n",
              "<style scoped>\n",
              "    .dataframe tbody tr th:only-of-type {\n",
              "        vertical-align: middle;\n",
              "    }\n",
              "\n",
              "    .dataframe tbody tr th {\n",
              "        vertical-align: top;\n",
              "    }\n",
              "\n",
              "    .dataframe thead th {\n",
              "        text-align: right;\n",
              "    }\n",
              "</style>\n",
              "<table border=\"1\" class=\"dataframe\">\n",
              "  <thead>\n",
              "    <tr style=\"text-align: right;\">\n",
              "      <th></th>\n",
              "      <th>target</th>\n",
              "      <th>input</th>\n",
              "    </tr>\n",
              "  </thead>\n",
              "  <tbody>\n",
              "    <tr>\n",
              "      <th>0</th>\n",
              "      <td>Go.</td>\n",
              "      <td>Ve.</td>\n",
              "    </tr>\n",
              "    <tr>\n",
              "      <th>1</th>\n",
              "      <td>Go.</td>\n",
              "      <td>Vete.</td>\n",
              "    </tr>\n",
              "    <tr>\n",
              "      <th>2</th>\n",
              "      <td>Go.</td>\n",
              "      <td>Vaya.</td>\n",
              "    </tr>\n",
              "    <tr>\n",
              "      <th>3</th>\n",
              "      <td>Go.</td>\n",
              "      <td>Váyase.</td>\n",
              "    </tr>\n",
              "    <tr>\n",
              "      <th>4</th>\n",
              "      <td>Hi.</td>\n",
              "      <td>Hola.</td>\n",
              "    </tr>\n",
              "    <tr>\n",
              "      <th>...</th>\n",
              "      <td>...</td>\n",
              "      <td>...</td>\n",
              "    </tr>\n",
              "    <tr>\n",
              "      <th>99995</th>\n",
              "      <td>I can't see very well without glasses.</td>\n",
              "      <td>No veo muy bien sin gafas.</td>\n",
              "    </tr>\n",
              "    <tr>\n",
              "      <th>99996</th>\n",
              "      <td>I can't see very well without glasses.</td>\n",
              "      <td>No puedo ver muy bien sin gafas.</td>\n",
              "    </tr>\n",
              "    <tr>\n",
              "      <th>99997</th>\n",
              "      <td>I can't stop thinking about yesterday.</td>\n",
              "      <td>No puedo dejar de pensar en lo de ayer.</td>\n",
              "    </tr>\n",
              "    <tr>\n",
              "      <th>99998</th>\n",
              "      <td>I can't tell if you're serious or not.</td>\n",
              "      <td>Yo no puedo decir si tú eres serio o no.</td>\n",
              "    </tr>\n",
              "    <tr>\n",
              "      <th>99999</th>\n",
              "      <td>I can't think of anything else to say.</td>\n",
              "      <td>No se me ocurre nada más que decir.</td>\n",
              "    </tr>\n",
              "  </tbody>\n",
              "</table>\n",
              "<p>100000 rows × 2 columns</p>\n",
              "</div>"
            ],
            "text/plain": [
              "                                       target                                     input\n",
              "0                                         Go.                                       Ve.\n",
              "1                                         Go.                                     Vete.\n",
              "2                                         Go.                                     Vaya.\n",
              "3                                         Go.                                   Váyase.\n",
              "4                                         Hi.                                     Hola.\n",
              "...                                       ...                                       ...\n",
              "99995  I can't see very well without glasses.                No veo muy bien sin gafas.\n",
              "99996  I can't see very well without glasses.          No puedo ver muy bien sin gafas.\n",
              "99997  I can't stop thinking about yesterday.   No puedo dejar de pensar en lo de ayer.\n",
              "99998  I can't tell if you're serious or not.  Yo no puedo decir si tú eres serio o no.\n",
              "99999  I can't think of anything else to say.       No se me ocurre nada más que decir.\n",
              "\n",
              "[100000 rows x 2 columns]"
            ]
          },
          "metadata": {
            "tags": []
          },
          "execution_count": 17
        }
      ]
    },
    {
      "cell_type": "code",
      "metadata": {
        "colab": {
          "base_uri": "https://localhost:8080/"
        },
        "id": "KnnofdIM_RDT",
        "outputId": "cffc3b08-4ee2-4b91-e8ba-a8525645dee4"
      },
      "source": [
        "# Create a tokenizer for the input texts(Spanish) and fit it to them \n",
        "tokenizer_inputs = Tokenizer(num_words=MAX_VOCAB_SIZE, filters='')\n",
        "tokenizer_inputs.fit_on_texts(input_data)\n",
        "# Tokenize and transform input texts to sequence of integers\n",
        "input_sequences = tokenizer_inputs.texts_to_sequences(input_data)\n",
        "# Claculate the max length\n",
        "input_max_len = max(len(s) for s in input_sequences)\n",
        "print('Max Input Length: ', input_max_len)\n",
        "# Show some example of tokenize sentences, useful to check the tokenization\n",
        "print(input_data[19995])\n",
        "print(input_sequences[19995])\n"
      ],
      "execution_count": 23,
      "outputs": [
        {
          "output_type": "stream",
          "text": [
            "Max Input Length:  20\n",
            "¿ hay un problema ?\n",
            "[6, 64, 12, 165, 5]\n"
          ],
          "name": "stdout"
        }
      ]
    },
    {
      "cell_type": "code",
      "metadata": {
        "colab": {
          "base_uri": "https://localhost:8080/"
        },
        "id": "8wgcQpCr_iOj",
        "outputId": "99ddfd22-76d3-4c5f-e54b-54d4080e9ae6"
      },
      "source": [
        "# tokenize the outputs(English)\n",
        "# don't filter out special characters (filters = '')\n",
        "# otherwise <sos> and <eos> won't appear\n",
        "# By default, Keras’ Tokenizer will trim out all the punctuations, which is not what we want. \n",
        "# we can just set filters as blank here.\n",
        "\n",
        "# Create a tokenizer for the output texts and fit it to them \n",
        "tokenizer_outputs = Tokenizer(num_words=MAX_VOCAB_SIZE, filters='')\n",
        "tokenizer_outputs.fit_on_texts(target_data)\n",
        "tokenizer_outputs.fit_on_texts(target_input_data)\n",
        "# Tokenize and transform output texts to sequence of integers\n",
        "target_sequences = tokenizer_outputs.texts_to_sequences(target_data)\n",
        "target_sequences_inputs = tokenizer_outputs.texts_to_sequences(target_input_data)\n",
        "\n",
        "# determine maximum length output sequence\n",
        "target_max_len = max(len(s) for s in target_sequences)\n",
        "print('Max Target Length: ', target_max_len)\n",
        "\n",
        "print(target_data[19995])\n",
        "print(target_sequences[19995])\n",
        "print(target_input_data[19995])\n",
        "print(target_sequences_inputs[19995])"
      ],
      "execution_count": 24,
      "outputs": [
        {
          "output_type": "stream",
          "text": [
            "Max Target Length:  14\n",
            "is there a problem ? <eos>\n",
            "[11, 50, 10, 223, 9, 2]\n",
            "<sos> is there a problem ?\n",
            "[3, 11, 50, 10, 223, 9]\n"
          ],
          "name": "stdout"
        }
      ]
    },
    {
      "cell_type": "code",
      "metadata": {
        "colab": {
          "base_uri": "https://localhost:8080/"
        },
        "id": "JyFQ1Uj-BC7_",
        "outputId": "e4522eb4-1c94-4e05-b356-51d7712b3206"
      },
      "source": [
        "#Creating Vocabularies\n",
        "# get the word to index mapping for input language\n",
        "word2idx_inputs = tokenizer_inputs.word_index\n",
        "print('Found %s unique input tokens.' % len(word2idx_inputs))\n",
        "\n",
        "# get the word to index mapping for output language\n",
        "word2idx_outputs = tokenizer_outputs.word_index\n",
        "print('Found %s unique output tokens.' % len(word2idx_outputs))\n",
        "\n",
        "# store number of output and input words for later\n",
        "# remember to add 1 since indexing starts at 1\n",
        "num_words_output = len(word2idx_outputs) + 1\n",
        "num_words_inputs = len(word2idx_inputs) + 1\n",
        "\n",
        "# map indexes back into real words\n",
        "# so we can view the results\n",
        "idx2word_inputs = {v:k for k, v in word2idx_inputs.items()}\n",
        "idx2word_outputs = {v:k for k, v in word2idx_outputs.items()}"
      ],
      "execution_count": 25,
      "outputs": [
        {
          "output_type": "stream",
          "text": [
            "Found 20025 unique input tokens.\n",
            "Found 10333 unique output tokens.\n"
          ],
          "name": "stdout"
        }
      ]
    },
    {
      "cell_type": "code",
      "metadata": {
        "colab": {
          "base_uri": "https://localhost:8080/"
        },
        "id": "raNa91bmBYyI",
        "outputId": "4e760716-826f-44cb-acd8-01b9329e4bf7"
      },
      "source": [
        "#Padding - necessary to pad the sentences with 0 at the end so all the sentences have the smae length\n",
        "# pad the input sequences\n",
        "encoder_inputs = pad_sequences(input_sequences, maxlen=input_max_len, padding='post')\n",
        "print(\"encoder_inputs.shape:\", encoder_inputs.shape)\n",
        "print(\"encoder_inputs[0]:\", encoder_inputs[0])\n",
        "# pad the decoder input sequences\n",
        "decoder_inputs = pad_sequences(target_sequences_inputs, maxlen=target_max_len, padding='post')\n",
        "print(\"decoder_inputs[0]:\", decoder_inputs[0])\n",
        "print(\"decoder_inputs.shape:\", decoder_inputs.shape)\n",
        "# pad the target output sequences\n",
        "decoder_targets = pad_sequences(target_sequences, maxlen=target_max_len, padding='post')"
      ],
      "execution_count": 26,
      "outputs": [
        {
          "output_type": "stream",
          "text": [
            "encoder_inputs.shape: (100000, 20)\n",
            "encoder_inputs[0]: [281   1   0   0   0   0   0   0   0   0   0   0   0   0   0   0   0   0\n",
            "   0   0]\n",
            "decoder_inputs[0]: [ 3 46  1  0  0  0  0  0  0  0  0  0  0  0]\n",
            "decoder_inputs.shape: (100000, 14)\n"
          ],
          "name": "stdout"
        }
      ]
    },
    {
      "cell_type": "code",
      "metadata": {
        "id": "47lub20SBtW6"
      },
      "source": [
        "# Define a dataset \n",
        "dataset = tf.data.Dataset.from_tensor_slices(\n",
        "    (encoder_inputs, decoder_inputs, decoder_targets))\n",
        "dataset = dataset.shuffle(len(input_data)).batch(\n",
        "    BATCH_SIZE, drop_remainder=True)"
      ],
      "execution_count": 27,
      "outputs": []
    },
    {
      "cell_type": "code",
      "metadata": {
        "id": "6E8iyHhpB4OK"
      },
      "source": [
        "class Encoder(tf.keras.Model):\n",
        "    def __init__(self, vocab_size, embedding_dim, hidden_dim):\n",
        "        super(Encoder, self).__init__()\n",
        "        self.hidden_dim = hidden_dim\n",
        "        # Define the embedding layer\n",
        "        self.embedding = tf.keras.layers.Embedding(vocab_size, embedding_dim)\n",
        "        # Define the RNN layer, LSTM\n",
        "        self.lstm = tf.keras.layers.LSTM(\n",
        "            hidden_dim, return_sequences=True, return_state=True)\n",
        "\n",
        "    def call(self, input_sequence, states):\n",
        "        # Embed the input\n",
        "        embed = self.embedding(input_sequence)\n",
        "        # Call the LSTM unit\n",
        "        output, state_h, state_c = self.lstm(embed, initial_state=states)\n",
        "\n",
        "        return output, state_h, state_c\n",
        "\n",
        "    def init_states(self, batch_size):\n",
        "        # Return a all 0s initial states\n",
        "        return (tf.zeros([batch_size, self.hidden_dim]),\n",
        "                tf.zeros([batch_size, self.hidden_dim]))"
      ],
      "execution_count": 29,
      "outputs": []
    },
    {
      "cell_type": "code",
      "metadata": {
        "id": "CoBdBhckB8YA"
      },
      "source": [
        "class Decoder(tf.keras.Model):\n",
        "    def __init__(self, vocab_size, embedding_dim, hidden_dim):\n",
        "        super(Decoder, self).__init__()\n",
        "        self.hidden_dim = hidden_dim\n",
        "        # Define the embedding layer\n",
        "        self.embedding = tf.keras.layers.Embedding(vocab_size, embedding_dim)\n",
        "        # Define the RNN layer, LSTM\n",
        "        self.lstm = tf.keras.layers.LSTM(\n",
        "            hidden_dim, return_sequences=True, return_state=True)\n",
        "        self.dense = tf.keras.layers.Dense(vocab_size)\n",
        "\n",
        "    def call(self, input_sequence, state):\n",
        "        # Embed the input\n",
        "        embed = self.embedding(input_sequence)\n",
        "        # Call the LSTM unit\n",
        "        lstm_out, state_h, state_c = self.lstm(embed, state)\n",
        "        # Dense layer to predict output token\n",
        "        logits = self.dense(lstm_out)\n",
        "\n",
        "        return logits, state_h, state_c"
      ],
      "execution_count": 30,
      "outputs": []
    },
    {
      "cell_type": "code",
      "metadata": {
        "colab": {
          "base_uri": "https://localhost:8080/"
        },
        "id": "EbvH_DS6CAh1",
        "outputId": "c0bb69cf-a80d-4e51-eec2-f76dd5100674"
      },
      "source": [
        "#Set the length of the input and output vocabulary\n",
        "num_words_inputs = len(word2idx_inputs) + 1\n",
        "num_words_output = len(word2idx_outputs) + 1\n",
        "#Create the encoder\n",
        "encoder = Encoder(num_words_inputs, EMBEDDING_DIM, HIDDEN_DIM)\n",
        "# Get the initial states\n",
        "initial_state = encoder.init_states(1)\n",
        "# Call the encoder for testing\n",
        "test_encoder_output = encoder(tf.constant(\n",
        "    [[1, 23, 4, 5, 0, 0]]), initial_state)\n",
        "print(test_encoder_output[0].shape)\n",
        "# Create the decoder\n",
        "decoder = Decoder(num_words_output, EMBEDDING_DIM, HIDDEN_DIM)\n",
        "# Get the initial states\n",
        "de_initial_state = test_encoder_output[1:]\n",
        "# Call the decoder for testing\n",
        "test_decoder_output = decoder(tf.constant(\n",
        "    [[1, 3, 5, 7, 9, 0, 0, 0]]), de_initial_state)\n",
        "print(test_decoder_output[0].shape)"
      ],
      "execution_count": 31,
      "outputs": [
        {
          "output_type": "stream",
          "text": [
            "(1, 6, 1024)\n",
            "(1, 8, 10334)\n"
          ],
          "name": "stdout"
        }
      ]
    },
    {
      "cell_type": "code",
      "metadata": {
        "id": "oso4D35RCC-N"
      },
      "source": [
        "def loss_func(targets, logits):\n",
        "    crossentropy = tf.keras.losses.SparseCategoricalCrossentropy(\n",
        "        from_logits=True)\n",
        "    # Mask padding values, they do not have to compute for loss\n",
        "    mask = tf.math.logical_not(tf.math.equal(targets, 0))\n",
        "    mask = tf.cast(mask, dtype=tf.int64)\n",
        "    # Calculate the loss value\n",
        "    loss = crossentropy(targets, logits, sample_weight=mask)\n",
        "\n",
        "    return loss\n",
        "\n",
        "def accuracy_fn(y_true, y_pred):\n",
        "    # y_pred shape is batch_size, seq length, vocab size\n",
        "    # y_true shape is batch_size, seq length\n",
        "    pred_values = K.cast(K.argmax(y_pred, axis=-1), dtype='int32')\n",
        "    correct = K.cast(K.equal(y_true, pred_values), dtype='float32')\n",
        "\n",
        "    # 0 is padding, don't include those\n",
        "    mask = K.cast(K.greater(y_true, 0), dtype='float32')\n",
        "    n_correct = K.sum(mask * correct)\n",
        "    n_total = K.sum(mask)\n",
        "  \n",
        "    return n_correct / n_total"
      ],
      "execution_count": 32,
      "outputs": []
    },
    {
      "cell_type": "code",
      "metadata": {
        "id": "qwUPWQE7CicV"
      },
      "source": [
        "# Use the @tf.function decorator to take advance of static graph computation\n",
        "@tf.function\n",
        "def train_step(input_seq, target_seq_in, target_seq_out, en_initial_states, optimizer):\n",
        "    ''' A training step, train a batch of the data and return the loss value reached\n",
        "        Input:\n",
        "        - input_seq: array of integers, shape [batch_size, max_seq_len, embedding dim].\n",
        "            the input sequence\n",
        "        - target_seq_out: array of integers, shape [batch_size, max_seq_len, embedding dim].\n",
        "            the target seq, our target sequence\n",
        "        - target_seq_in: array of integers, shape [batch_size, max_seq_len, embedding dim].\n",
        "            the input sequence to the decoder, we use Teacher Forcing\n",
        "        - en_initial_states: tuple of arrays of shape [batch_size, hidden_dim].\n",
        "            the initial state of the encoder\n",
        "        - optimizer: a tf.keras.optimizers.\n",
        "        Output:\n",
        "        - loss: loss value\n",
        "        \n",
        "    '''\n",
        "    # Network’s computations need to be put under tf.GradientTape() to keep track of gradients\n",
        "    with tf.GradientTape() as tape:\n",
        "        # Get the encoder outputs\n",
        "        en_outputs = encoder(input_seq, en_initial_states)\n",
        "        # Set the encoder and decoder states\n",
        "        en_states = en_outputs[1:]\n",
        "        de_states = en_states\n",
        "        # Get the encoder outputs\n",
        "        de_outputs = decoder(target_seq_in, de_states)\n",
        "        # Take the actual output\n",
        "        logits = de_outputs[0]\n",
        "        # Calculate the loss function\n",
        "        loss = loss_func(target_seq_out, logits)\n",
        "        acc = accuracy_fn(target_seq_out, logits)\n",
        "\n",
        "    variables = encoder.trainable_variables + decoder.trainable_variables\n",
        "    # Calculate the gradients for the variables\n",
        "    gradients = tape.gradient(loss, variables)\n",
        "    # Apply the gradients and update the optimizer\n",
        "    optimizer.apply_gradients(zip(gradients, variables))\n",
        "\n",
        "    return loss, acc"
      ],
      "execution_count": 33,
      "outputs": []
    },
    {
      "cell_type": "code",
      "metadata": {
        "id": "2I7p8u-cCnE4"
      },
      "source": [
        "# Create the main train function\n",
        "def main_train(encoder, decoder, dataset, n_epochs, batch_size, optimizer, checkpoint, checkpoint_prefix):\n",
        "    \n",
        "    losses = []\n",
        "    accuracies = []\n",
        "\n",
        "    for e in range(n_epochs):\n",
        "        # Get the initial time\n",
        "        start = time.time()\n",
        "        # Get the initial state for the encoder\n",
        "        en_initial_states = encoder.init_states(batch_size)\n",
        "        # For every batch data\n",
        "        for batch, (input_seq, target_seq_in, target_seq_out) in enumerate(dataset.take(-1)):\n",
        "            # Train and get the loss value \n",
        "            loss, accuracy = train_step(input_seq, target_seq_in, target_seq_out, en_initial_states, optimizer)\n",
        "        \n",
        "            if batch % 100 == 0:\n",
        "                # Store the loss and accuracy values\n",
        "                losses.append(loss)\n",
        "                accuracies.append(accuracy)\n",
        "                print('Epoch {} Batch {} Loss {:.4f} Acc:{:.4f}'.format(e + 1, batch, loss.numpy(), accuracy.numpy()))\n",
        "                \n",
        "        # saving (checkpoint) the model every 2 epochs\n",
        "        if (e + 1) % 2 == 0:\n",
        "            checkpoint.save(file_prefix = checkpoint_prefix)\n",
        "    \n",
        "        print('Time taken for 1 epoch {:.4f} sec\\n'.format(time.time() - start))\n",
        "        \n",
        "    return losses, accuracies"
      ],
      "execution_count": 34,
      "outputs": []
    },
    {
      "cell_type": "code",
      "metadata": {
        "colab": {
          "base_uri": "https://localhost:8080/"
        },
        "id": "e71ApyYqC0Fe",
        "outputId": "faa368df-0e7f-4361-e2b6-c3c9699f2438"
      },
      "source": [
        "# Create an Adam optimizer and clips gradients by norm\n",
        "optimizer = tf.keras.optimizers.Adam(clipnorm=5.0)\n",
        "# Create a checkpoint object to save the model\n",
        "checkpoint_dir = '/content/drive/MyDrive/machine-translation/models/spa-eng/training_ckpt_seq2seq'\n",
        "checkpoint_prefix = os.path.join(checkpoint_dir, \"ckpt\")\n",
        "checkpoint = tf.train.Checkpoint(optimizer=optimizer,\n",
        "                                 encoder=encoder,\n",
        "                                 decoder=decoder)\n",
        "\n",
        "losses, accuracies = main_train(encoder, decoder, dataset, EPOCHS, BATCH_SIZE, optimizer, checkpoint, checkpoint_prefix)"
      ],
      "execution_count": 35,
      "outputs": [
        {
          "output_type": "stream",
          "text": [
            "Epoch 1 Batch 0 Loss 4.9619 Acc:0.0000\n",
            "Epoch 1 Batch 100 Loss 2.4552 Acc:0.3007\n",
            "Epoch 1 Batch 200 Loss 2.2804 Acc:0.3186\n",
            "Epoch 1 Batch 300 Loss 2.0306 Acc:0.3700\n",
            "Epoch 1 Batch 400 Loss 2.1268 Acc:0.3613\n",
            "Epoch 1 Batch 500 Loss 1.9255 Acc:0.3900\n",
            "Epoch 1 Batch 600 Loss 1.8468 Acc:0.4056\n",
            "Epoch 1 Batch 700 Loss 1.7278 Acc:0.4387\n",
            "Time taken for 1 epoch 79.7817 sec\n",
            "\n",
            "Epoch 2 Batch 0 Loss 1.7063 Acc:0.4519\n",
            "Epoch 2 Batch 100 Loss 1.6150 Acc:0.4586\n",
            "Epoch 2 Batch 200 Loss 1.5352 Acc:0.4771\n",
            "Epoch 2 Batch 300 Loss 1.5399 Acc:0.4852\n",
            "Epoch 2 Batch 400 Loss 1.4996 Acc:0.4894\n",
            "Epoch 2 Batch 500 Loss 1.5496 Acc:0.4781\n",
            "Epoch 2 Batch 600 Loss 1.4517 Acc:0.5021\n",
            "Epoch 2 Batch 700 Loss 1.3808 Acc:0.5124\n",
            "Time taken for 1 epoch 77.2721 sec\n",
            "\n",
            "Epoch 3 Batch 0 Loss 1.3096 Acc:0.5069\n",
            "Epoch 3 Batch 100 Loss 1.2552 Acc:0.5304\n",
            "Epoch 3 Batch 200 Loss 1.3219 Acc:0.5513\n",
            "Epoch 3 Batch 300 Loss 1.2760 Acc:0.5361\n",
            "Epoch 3 Batch 400 Loss 1.1697 Acc:0.5675\n",
            "Epoch 3 Batch 500 Loss 1.1905 Acc:0.5655\n",
            "Epoch 3 Batch 600 Loss 1.2795 Acc:0.5397\n",
            "Epoch 3 Batch 700 Loss 1.2352 Acc:0.5569\n",
            "Time taken for 1 epoch 76.1544 sec\n",
            "\n",
            "Epoch 4 Batch 0 Loss 1.1424 Acc:0.5545\n",
            "Epoch 4 Batch 100 Loss 1.0637 Acc:0.5803\n",
            "Epoch 4 Batch 200 Loss 1.0831 Acc:0.5803\n",
            "Epoch 4 Batch 300 Loss 1.1211 Acc:0.5805\n",
            "Epoch 4 Batch 400 Loss 1.1284 Acc:0.5669\n",
            "Epoch 4 Batch 500 Loss 1.0993 Acc:0.5914\n",
            "Epoch 4 Batch 600 Loss 1.0770 Acc:0.5975\n",
            "Epoch 4 Batch 700 Loss 1.0525 Acc:0.6087\n",
            "Time taken for 1 epoch 77.9460 sec\n",
            "\n",
            "Epoch 5 Batch 0 Loss 0.9892 Acc:0.6048\n",
            "Epoch 5 Batch 100 Loss 0.9075 Acc:0.6133\n",
            "Epoch 5 Batch 200 Loss 0.9202 Acc:0.5998\n",
            "Epoch 5 Batch 300 Loss 0.9030 Acc:0.6314\n",
            "Epoch 5 Batch 400 Loss 0.8959 Acc:0.6388\n",
            "Epoch 5 Batch 500 Loss 0.9343 Acc:0.6122\n",
            "Epoch 5 Batch 600 Loss 0.9668 Acc:0.6247\n",
            "Epoch 5 Batch 700 Loss 0.8409 Acc:0.6414\n",
            "Time taken for 1 epoch 76.4967 sec\n",
            "\n",
            "Epoch 6 Batch 0 Loss 0.8216 Acc:0.6556\n",
            "Epoch 6 Batch 100 Loss 0.7914 Acc:0.6792\n",
            "Epoch 6 Batch 200 Loss 0.7687 Acc:0.6499\n",
            "Epoch 6 Batch 300 Loss 0.8231 Acc:0.6482\n",
            "Epoch 6 Batch 400 Loss 0.7994 Acc:0.6740\n",
            "Epoch 6 Batch 500 Loss 0.7782 Acc:0.6790\n",
            "Epoch 6 Batch 600 Loss 0.8057 Acc:0.6473\n",
            "Epoch 6 Batch 700 Loss 0.7777 Acc:0.6789\n",
            "Time taken for 1 epoch 77.2321 sec\n",
            "\n",
            "Epoch 7 Batch 0 Loss 0.6421 Acc:0.7311\n",
            "Epoch 7 Batch 100 Loss 0.6204 Acc:0.7048\n",
            "Epoch 7 Batch 200 Loss 0.6300 Acc:0.7168\n",
            "Epoch 7 Batch 300 Loss 0.6546 Acc:0.7319\n",
            "Epoch 7 Batch 400 Loss 0.6317 Acc:0.7376\n",
            "Epoch 7 Batch 500 Loss 0.6914 Acc:0.7027\n",
            "Epoch 7 Batch 600 Loss 0.6497 Acc:0.7233\n",
            "Epoch 7 Batch 700 Loss 0.7417 Acc:0.6886\n",
            "Time taken for 1 epoch 76.3588 sec\n",
            "\n",
            "Epoch 8 Batch 0 Loss 0.5436 Acc:0.7713\n",
            "Epoch 8 Batch 100 Loss 0.6046 Acc:0.7444\n",
            "Epoch 8 Batch 200 Loss 0.5728 Acc:0.7470\n",
            "Epoch 8 Batch 300 Loss 0.6095 Acc:0.7264\n",
            "Epoch 8 Batch 400 Loss 0.5572 Acc:0.7395\n",
            "Epoch 8 Batch 500 Loss 0.6182 Acc:0.7388\n",
            "Epoch 8 Batch 600 Loss 0.5651 Acc:0.7532\n",
            "Epoch 8 Batch 700 Loss 0.6506 Acc:0.7257\n",
            "Time taken for 1 epoch 77.2262 sec\n",
            "\n",
            "Epoch 9 Batch 0 Loss 0.4749 Acc:0.7849\n",
            "Epoch 9 Batch 100 Loss 0.4399 Acc:0.7898\n",
            "Epoch 9 Batch 200 Loss 0.4759 Acc:0.7884\n",
            "Epoch 9 Batch 300 Loss 0.4974 Acc:0.7714\n",
            "Epoch 9 Batch 400 Loss 0.5212 Acc:0.7643\n",
            "Epoch 9 Batch 500 Loss 0.5130 Acc:0.7695\n",
            "Epoch 9 Batch 600 Loss 0.5328 Acc:0.7685\n",
            "Epoch 9 Batch 700 Loss 0.4859 Acc:0.7696\n",
            "Time taken for 1 epoch 76.5185 sec\n",
            "\n",
            "Epoch 10 Batch 0 Loss 0.3784 Acc:0.8281\n",
            "Epoch 10 Batch 100 Loss 0.3948 Acc:0.8186\n",
            "Epoch 10 Batch 200 Loss 0.4145 Acc:0.8063\n",
            "Epoch 10 Batch 300 Loss 0.3972 Acc:0.8080\n",
            "Epoch 10 Batch 400 Loss 0.4335 Acc:0.7965\n",
            "Epoch 10 Batch 500 Loss 0.4400 Acc:0.7842\n",
            "Epoch 10 Batch 600 Loss 0.3887 Acc:0.8123\n",
            "Epoch 10 Batch 700 Loss 0.3561 Acc:0.8248\n",
            "Time taken for 1 epoch 76.9308 sec\n",
            "\n",
            "Epoch 11 Batch 0 Loss 0.3301 Acc:0.8395\n",
            "Epoch 11 Batch 100 Loss 0.3232 Acc:0.8485\n",
            "Epoch 11 Batch 200 Loss 0.3223 Acc:0.8527\n",
            "Epoch 11 Batch 300 Loss 0.3323 Acc:0.8434\n",
            "Epoch 11 Batch 400 Loss 0.3552 Acc:0.8328\n",
            "Epoch 11 Batch 500 Loss 0.3407 Acc:0.8300\n",
            "Epoch 11 Batch 600 Loss 0.3693 Acc:0.8150\n",
            "Epoch 11 Batch 700 Loss 0.3711 Acc:0.8193\n",
            "Time taken for 1 epoch 75.8461 sec\n",
            "\n",
            "Epoch 12 Batch 0 Loss 0.2687 Acc:0.8620\n",
            "Epoch 12 Batch 100 Loss 0.2686 Acc:0.8715\n",
            "Epoch 12 Batch 200 Loss 0.2756 Acc:0.8665\n",
            "Epoch 12 Batch 300 Loss 0.2760 Acc:0.8674\n",
            "Epoch 12 Batch 400 Loss 0.2871 Acc:0.8772\n",
            "Epoch 12 Batch 500 Loss 0.3221 Acc:0.8478\n",
            "Epoch 12 Batch 600 Loss 0.2942 Acc:0.8627\n",
            "Epoch 12 Batch 700 Loss 0.3085 Acc:0.8626\n",
            "Time taken for 1 epoch 76.7942 sec\n",
            "\n",
            "Epoch 13 Batch 0 Loss 0.2144 Acc:0.8964\n",
            "Epoch 13 Batch 100 Loss 0.2262 Acc:0.8872\n",
            "Epoch 13 Batch 200 Loss 0.2462 Acc:0.8899\n",
            "Epoch 13 Batch 300 Loss 0.2108 Acc:0.9015\n",
            "Epoch 13 Batch 400 Loss 0.2690 Acc:0.8640\n",
            "Epoch 13 Batch 500 Loss 0.2603 Acc:0.8675\n",
            "Epoch 13 Batch 600 Loss 0.2602 Acc:0.8706\n",
            "Epoch 13 Batch 700 Loss 0.2489 Acc:0.8772\n",
            "Time taken for 1 epoch 76.2306 sec\n",
            "\n",
            "Epoch 14 Batch 0 Loss 0.1690 Acc:0.9190\n",
            "Epoch 14 Batch 100 Loss 0.1828 Acc:0.9167\n",
            "Epoch 14 Batch 200 Loss 0.1803 Acc:0.9132\n",
            "Epoch 14 Batch 300 Loss 0.1801 Acc:0.9092\n",
            "Epoch 14 Batch 400 Loss 0.2116 Acc:0.8954\n",
            "Epoch 14 Batch 500 Loss 0.1916 Acc:0.9015\n",
            "Epoch 14 Batch 600 Loss 0.2219 Acc:0.8828\n",
            "Epoch 14 Batch 700 Loss 0.2168 Acc:0.8899\n",
            "Time taken for 1 epoch 76.7115 sec\n",
            "\n",
            "Epoch 15 Batch 0 Loss 0.1575 Acc:0.9278\n",
            "Epoch 15 Batch 100 Loss 0.1480 Acc:0.9346\n",
            "Epoch 15 Batch 200 Loss 0.1567 Acc:0.9253\n",
            "Epoch 15 Batch 300 Loss 0.1562 Acc:0.9197\n",
            "Epoch 15 Batch 400 Loss 0.1497 Acc:0.9263\n",
            "Epoch 15 Batch 500 Loss 0.1794 Acc:0.9084\n",
            "Epoch 15 Batch 600 Loss 0.1661 Acc:0.9229\n",
            "Epoch 15 Batch 700 Loss 0.2218 Acc:0.8696\n",
            "Time taken for 1 epoch 75.9673 sec\n",
            "\n",
            "Epoch 16 Batch 0 Loss 0.1239 Acc:0.9346\n",
            "Epoch 16 Batch 100 Loss 0.1273 Acc:0.9454\n",
            "Epoch 16 Batch 200 Loss 0.1487 Acc:0.9269\n",
            "Epoch 16 Batch 300 Loss 0.1331 Acc:0.9382\n",
            "Epoch 16 Batch 400 Loss 0.1433 Acc:0.9269\n",
            "Epoch 16 Batch 500 Loss 0.1644 Acc:0.9197\n",
            "Epoch 16 Batch 600 Loss 0.1695 Acc:0.9096\n",
            "Epoch 16 Batch 700 Loss 0.1605 Acc:0.9198\n",
            "Time taken for 1 epoch 76.9687 sec\n",
            "\n",
            "Epoch 17 Batch 0 Loss 0.1055 Acc:0.9562\n",
            "Epoch 17 Batch 100 Loss 0.1071 Acc:0.9488\n",
            "Epoch 17 Batch 200 Loss 0.1083 Acc:0.9341\n",
            "Epoch 17 Batch 300 Loss 0.1304 Acc:0.9361\n",
            "Epoch 17 Batch 400 Loss 0.1309 Acc:0.9375\n",
            "Epoch 17 Batch 500 Loss 0.1229 Acc:0.9417\n",
            "Epoch 17 Batch 600 Loss 0.1320 Acc:0.9342\n",
            "Epoch 17 Batch 700 Loss 0.1500 Acc:0.9274\n",
            "Time taken for 1 epoch 76.2917 sec\n",
            "\n",
            "Epoch 18 Batch 0 Loss 0.0871 Acc:0.9589\n",
            "Epoch 18 Batch 100 Loss 0.0865 Acc:0.9606\n",
            "Epoch 18 Batch 200 Loss 0.1148 Acc:0.9466\n",
            "Epoch 18 Batch 300 Loss 0.1264 Acc:0.9432\n",
            "Epoch 18 Batch 400 Loss 0.1154 Acc:0.9490\n",
            "Epoch 18 Batch 500 Loss 0.1004 Acc:0.9498\n",
            "Epoch 18 Batch 600 Loss 0.1156 Acc:0.9430\n",
            "Epoch 18 Batch 700 Loss 0.1361 Acc:0.9340\n",
            "Time taken for 1 epoch 77.1923 sec\n",
            "\n",
            "Epoch 19 Batch 0 Loss 0.0931 Acc:0.9556\n",
            "Epoch 19 Batch 100 Loss 0.0980 Acc:0.9502\n",
            "Epoch 19 Batch 200 Loss 0.0823 Acc:0.9663\n",
            "Epoch 19 Batch 300 Loss 0.0740 Acc:0.9608\n",
            "Epoch 19 Batch 400 Loss 0.0961 Acc:0.9435\n",
            "Epoch 19 Batch 500 Loss 0.1239 Acc:0.9469\n",
            "Epoch 19 Batch 600 Loss 0.0910 Acc:0.9534\n",
            "Epoch 19 Batch 700 Loss 0.0990 Acc:0.9501\n",
            "Time taken for 1 epoch 75.9130 sec\n",
            "\n",
            "Epoch 20 Batch 0 Loss 0.0777 Acc:0.9596\n",
            "Epoch 20 Batch 100 Loss 0.0644 Acc:0.9683\n",
            "Epoch 20 Batch 200 Loss 0.0757 Acc:0.9625\n",
            "Epoch 20 Batch 300 Loss 0.0853 Acc:0.9579\n",
            "Epoch 20 Batch 400 Loss 0.0697 Acc:0.9661\n",
            "Epoch 20 Batch 500 Loss 0.0852 Acc:0.9526\n",
            "Epoch 20 Batch 600 Loss 0.0893 Acc:0.9595\n",
            "Epoch 20 Batch 700 Loss 0.1020 Acc:0.9455\n",
            "Time taken for 1 epoch 77.6050 sec\n",
            "\n"
          ],
          "name": "stdout"
        }
      ]
    },
    {
      "cell_type": "code",
      "metadata": {
        "colab": {
          "base_uri": "https://localhost:8080/",
          "height": 336
        },
        "id": "ATeh7SnuC-OY",
        "outputId": "d4a73fa4-11a2-433d-b849-c95bbc7b1cea"
      },
      "source": [
        "fig, (ax1, ax2) = plt.subplots(1, 2, figsize=(15,5))\n",
        "# plot some data\n",
        "ax1.plot(losses, label='loss')\n",
        "#plt.plot(results.history['val_loss'], label='val_loss')\n",
        "ax1.set_title('Training Loss')\n",
        "ax1.legend()\n",
        "# accuracies\n",
        "ax2.plot(accuracies, label='acc')\n",
        "#plt.plot(results.history['val_accuracy_fn'], label='val_acc')\n",
        "ax2.set_title('Training Accuracy')\n",
        "ax2.legend()\n",
        "plt.show()"
      ],
      "execution_count": 38,
      "outputs": [
        {
          "output_type": "display_data",
          "data": {
            "image/png": "[encoded data removed]",
            "text/plain": [
              "<Figure size 1080x360 with 2 Axes>"
            ]
          },
          "metadata": {
            "tags": [],
            "needs_background": "light"
          }
        }
      ]
    },
    {
      "cell_type": "code",
      "metadata": {
        "colab": {
          "base_uri": "https://localhost:8080/"
        },
        "id": "vKDN5aJJDBa8",
        "outputId": "9a2aa414-ee3e-443a-9296-717324eeb538"
      },
      "source": [
        "# restoring the latest checkpoint in checkpoint_dir\n",
        "checkpoint_dir = '/content/drive/MyDrive/machine-translation/models/spa-eng/training_ckpt_seq2seq'\n",
        "checkpoint_prefix = os.path.join(checkpoint_dir, \"ckpt\")\n",
        "checkpoint.restore(tf.train.latest_checkpoint(checkpoint_dir))"
      ],
      "execution_count": 39,
      "outputs": [
        {
          "output_type": "execute_result",
          "data": {
            "text/plain": [
              "<tensorflow.python.training.tracking.util.CheckpointLoadStatus at 0x7f05c1d07b50>"
            ]
          },
          "metadata": {
            "tags": []
          },
          "execution_count": 39
        }
      ]
    },
    {
      "cell_type": "code",
      "metadata": {
        "id": "RT8GxJv1DNzw"
      },
      "source": [
        "def predict(input_text, encoder, input_max_len, tokenizer_inputs, word2idx_outputs, idx2word_outputs):\n",
        "    if input_text is None:\n",
        "        input_text = input_data[np.random.choice(len(input_data))]\n",
        "        print(input_text)\n",
        "    # Tokenize the input sequence\n",
        "    input_seq = tokenizer_inputs.texts_to_sequences([input_text])\n",
        "    # Pad the sentence\n",
        "    input_seq = pad_sequences(input_seq, maxlen=input_max_len, padding='post')\n",
        "    print(input_seq)\n",
        "    # Set the encoder initial state\n",
        "    en_initial_states = encoder.init_states(1)\n",
        "    en_outputs = encoder(tf.constant(input_seq), en_initial_states)\n",
        "    # Create the decoder input, the sos token\n",
        "    de_input = tf.constant([[word2idx_outputs['<sos>']]])\n",
        "    # Set the decoder states to the encoder vector or encoder hidden state\n",
        "    de_state_h, de_state_c = en_outputs[1:]\n",
        "    \n",
        "    out_words = []\n",
        "    while True:\n",
        "        # Decode and get the output probabilities\n",
        "        de_output, de_state_h, de_state_c = decoder(\n",
        "            de_input, (de_state_h, de_state_c))\n",
        "        # Select the word with the highest probability\n",
        "        de_input = tf.argmax(de_output, -1)\n",
        "        # Append the word to the predicted output\n",
        "        out_words.append(idx2word_outputs[de_input.numpy()[0][0]])\n",
        "        # Finish when eos token is found or the max length is reached\n",
        "        if out_words[-1] == '<eos>' or len(out_words) >= 20:\n",
        "            break\n",
        "\n",
        "    print(' '.join(out_words))"
      ],
      "execution_count": 40,
      "outputs": []
    },
    {
      "cell_type": "code",
      "metadata": {
        "colab": {
          "base_uri": "https://localhost:8080/"
        },
        "id": "trS8IIEvDS9M",
        "outputId": "08febcdc-63b6-45a8-e4d0-027e1be5aa0f"
      },
      "source": [
        "test_sents = [input_data[5000], input_data[10000], input_data[15000], input_data[20000],\n",
        "input_data[25000], input_data[30000], input_data[35000], input_data[40000], input_data[45000], input_data[50000], \n",
        "input_data[55000], input_data[60000], input_data[65000], input_data[70000], input_data[75000], input_data[80000],\n",
        "input_data[85000], input_data[90000], input_data[95000]]\n",
        "#test_sents = [encoder_inputs[1000]]\n",
        "print(test_sents)\n",
        "for test_sent in test_sents:\n",
        "    predict(test_sent, encoder, input_max_len, tokenizer_inputs, word2idx_outputs, idx2word_outputs)"
      ],
      "execution_count": 47,
      "outputs": [
        {
          "output_type": "stream",
          "text": [
            "['tengo que intentarlo .', 'eso es increible !', '¿ teneis un carro ?', '¿ esta es la mujer de tom ?', 'dile a tom que se presente .', 'tom perdio las gafas .', '¿ que puedo hacer por ustedes ?', '¿ donde estudias ?', 'deberias ir personalmente .', 'un cocodrilo se comio a tom .', '¿ tienes alguna experiencia ?', 'el estuvo muy malhumorado anoche .', '¿ cuanto dinero tiene tom ?', 'solo quiero volverme a la cama .', 'soy el benjamin de la familia .', 'ahora lleva puesto un precioso vestido .', 'ayer , tom no tenia nada para comer .', 'todo el mundo quiere vivir confortablemente .', 'los soldados deben obedecer a sus comandantes .']\n",
            "[[  40    2 1292    1    0    0    0    0    0    0    0    0    0    0\n",
            "     0    0    0    0    0    0]]\n",
            "i have to try . <eos>\n",
            "[[  31   11 1932   53    0    0    0    0    0    0    0    0    0    0\n",
            "     0    0    0    0    0    0]]\n",
            "it s incredible ! <eos>\n",
            "[[  6 800  12 713   5   0   0   0   0   0   0   0   0   0   0   0   0   0\n",
            "    0   0]]\n",
            "do you have a car ? <eos>\n",
            "[[  6  16  11  10 278   9   3   5   0   0   0   0   0   0   0   0   0   0\n",
            "    0   0]]\n",
            "is this tom s wife ? <eos>\n",
            "[[ 872    8    3    2   15 1752    1    0    0    0    0    0    0    0\n",
            "     0    0    0    0    0    0]]\n",
            "tell tom to pick up . <eos>\n",
            "[[   3  458   30 1086    1    0    0    0    0    0    0    0    0    0\n",
            "     0    0    0    0    0    0]]\n",
            "tom lost his glasses . <eos>\n",
            "[[  6   2  45  52  17 200   5   0   0   0   0   0   0   0   0   0   0   0\n",
            "    0   0]]\n",
            "what can i do for you ? <eos>\n",
            "[[   6   57 2081    5    0    0    0    0    0    0    0    0    0    0\n",
            "     0    0    0    0    0    0]]\n",
            "where are you studying ? <eos>\n",
            "[[ 180   67 2583    1    0    0    0    0    0    0    0    0    0    0\n",
            "     0    0    0    0    0    0]]\n",
            "you should go to sleep . <eos>\n",
            "[[  12 6759   15  607    8    3    1    0    0    0    0    0    0    0\n",
            "     0    0    0    0    0    0]]\n",
            "a crocodile has eaten tom . <eos>\n",
            "[[   6   83  195 1109    5    0    0    0    0    0    0    0    0    0\n",
            "     0    0    0    0    0    0]]\n",
            "do you have any experience ? <eos>\n",
            "[[   7  306   38 8269  319    1    0    0    0    0    0    0    0    0\n",
            "     0    0    0    0    0    0]]\n",
            "he was so cranky last night . <eos>\n",
            "[[  6 151  97  39   3   5   0   0   0   0   0   0   0   0   0   0   0   0\n",
            "    0   0]]\n",
            "how much money does tom have ? <eos>\n",
            "[[  62   42 5829    8   10  243    1    0    0    0    0    0    0    0\n",
            "     0    0    0    0    0    0]]\n",
            "i just want to go back to bed . <eos>\n",
            "[[   69     7 17233     9    10   295     1     0     0     0     0     0\n",
            "      0     0     0     0     0     0     0     0]]\n",
            "i m the youngest in the family . <eos>\n",
            "[[  77  427  685   12 4116  620    1    0    0    0    0    0    0    0\n",
            "     0    0    0    0    0    0]]\n",
            "she is wearing a nice dress now . <eos>\n",
            "[[138  22   3   4 132  66  34 141   1   0   0   0   0   0   0   0   0   0\n",
            "    0   0]]\n",
            "tom had nothing to eat yesterday . <eos>\n",
            "[[   54     7   207    98   337 18807     1     0     0     0     0     0\n",
            "      0     0     0     0     0     0     0     0]]\n",
            "everybody wants to live in comfort . <eos>\n",
            "[[   26  1788  1450  2325     8   120 19366     1     0     0     0     0\n",
            "      0     0     0     0     0     0     0     0]]\n",
            "soldiers must obey their commanders . <eos>\n"
          ],
          "name": "stdout"
        }
      ]
    },
    {
      "cell_type": "code",
      "metadata": {
        "id": "sgpFiTqHI-Qw"
      },
      "source": [
        ""
      ],
      "execution_count": null,
      "outputs": []
    }
  ]
}