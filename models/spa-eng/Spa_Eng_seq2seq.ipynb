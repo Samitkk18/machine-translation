{
  "nbformat": 4,
  "nbformat_minor": 0,
  "metadata": {
    "colab": {
      "name": "Spa-Eng-seq2seq.ipynb",
      "provenance": []
    },
    "kernelspec": {
      "name": "python3",
      "display_name": "Python 3"
    },
    "language_info": {
      "name": "python"
    },
    "accelerator": "GPU"
  },
  "cells": [
    {
      "cell_type": "code",
      "metadata": {
        "colab": {
          "base_uri": "https://localhost:8080/"
        },
        "id": "WdundVLN9uuC",
        "outputId": "7d82e5f0-f63f-4530-b9a2-897c99b2ca70"
      },
      "source": [
        "from google.colab import drive\n",
        "drive.mount('/content/drive')"
      ],
      "execution_count": 1,
      "outputs": [
        {
          "output_type": "stream",
          "text": [
            "Drive already mounted at /content/drive; to attempt to forcibly remount, call drive.mount(\"/content/drive\", force_remount=True).\n"
          ],
          "name": "stdout"
        }
      ]
    },
    {
      "cell_type": "code",
      "metadata": {
        "colab": {
          "base_uri": "https://localhost:8080/"
        },
        "id": "SeaRh5cM-gx_",
        "outputId": "fe31a001-75cc-400b-eca1-9fcc02187e0b"
      },
      "source": [
        "import os\n",
        "import gc\n",
        "import time\n",
        "import re\n",
        "import unicodedata\n",
        "\n",
        "import pandas as pd\n",
        "import numpy as np\n",
        "import matplotlib.pyplot as plt\n",
        "%matplotlib inline\n",
        "\n",
        "import tensorflow as tf\n",
        "from tensorflow.keras import backend as K\n",
        "\n",
        "from keras.preprocessing.text import Tokenizer\n",
        "from keras.preprocessing.sequence import pad_sequences\n",
        "\n",
        "from sklearn.model_selection import train_test_split\n",
        "\n",
        "import random\n",
        "\n",
        "import nltk                         # import NLTK to handle simple NL tasks like tokenization.\n",
        "nltk.download(\"punkt\")\n",
        "from nltk.util import ngrams\n",
        "from collections import Counter     # import the Counter module.\n",
        "#!pip3 install 'sacrebleu'           # install the sacrebleu package.\n",
        "import sacrebleu                    # import sacrebleu in order compute the BLEU score.\n",
        "\n",
        "import statistics"
      ],
      "execution_count": 51,
      "outputs": [
        {
          "output_type": "stream",
          "text": [
            "[nltk_data] Downloading package punkt to /root/nltk_data...\n",
            "[nltk_data]   Package punkt is already up-to-date!\n"
          ],
          "name": "stdout"
        }
      ]
    },
    {
      "cell_type": "code",
      "metadata": {
        "id": "tjXcgTN5-y9G"
      },
      "source": [
        "# Global parameters\n",
        "#root folder\n",
        "root_folder='/content/drive/MyDrive/machine-translation/'\n",
        "#data_folder='.'\n",
        "data_folder_name='corpus/spa-eng'\n",
        "train_filename='spa.txt'\n",
        "\n",
        "# Variable for data directory\n",
        "DATA_PATH = os.path.abspath(os.path.join(root_folder, data_folder_name))\n",
        "train_filenamepath = os.path.abspath(os.path.join(DATA_PATH, train_filename))\n",
        "\n",
        "# Both train and test set are in the root data directory\n",
        "train_path = DATA_PATH\n",
        "test_path = DATA_PATH"
      ],
      "execution_count": 5,
      "outputs": []
    },
    {
      "cell_type": "code",
      "metadata": {
        "colab": {
          "base_uri": "https://localhost:8080/",
          "height": 35
        },
        "id": "9s6USIkr-1IH",
        "outputId": "571068c7-cc16-4495-9538-95f22193d2b0"
      },
      "source": [
        "train_filenamepath"
      ],
      "execution_count": 6,
      "outputs": [
        {
          "output_type": "execute_result",
          "data": {
            "application/vnd.google.colaboratory.intrinsic+json": {
              "type": "string"
            },
            "text/plain": [
              "'/content/drive/MyDrive/machine-translation/corpus/spa-eng/spa.txt'"
            ]
          },
          "metadata": {
            "tags": []
          },
          "execution_count": 6
        }
      ]
    },
    {
      "cell_type": "code",
      "metadata": {
        "id": "hCUFwsvK-2fV"
      },
      "source": [
        "# Parameters for our model\n",
        "INPUT_COLUMN = 'input'\n",
        "TARGET_COLUMN = 'target'\n",
        "TARGET_FOR_INPUT = 'target_for_input'\n",
        "NUM_SAMPLES = 120000 #40000\n",
        "MAX_VOCAB_SIZE = 20000\n",
        "EMBEDDING_DIM = 128\n",
        "HIDDEN_DIM = 1024 #512\n",
        "\n",
        "BATCH_SIZE = 128  # Batch size for training.\n",
        "EPOCHS = 10  # Number of epochs to train for.\n",
        "\n",
        "ATTENTION_FUNC='general'"
      ],
      "execution_count": 7,
      "outputs": []
    },
    {
      "cell_type": "code",
      "metadata": {
        "id": "tEXwZbzO_EQ_"
      },
      "source": [
        "#Preprocessing the data\n",
        "# Some function to preprocess the text data, taken from the Neural machine translation with attention tutorial in Tensorflow\n",
        "def unicode_to_ascii(s):\n",
        "    return ''.join(c for c in unicodedata.normalize('NFD', s)\n",
        "        if unicodedata.category(c) != 'Mn')\n",
        "\n",
        "def preprocess_sentence(w):\n",
        "    ''' Preprocess the input text w applying lowercase, removing accents, \n",
        "    creating a space between a word and the punctuation following it and \n",
        "    replacing everything with space except (a-z, A-Z, \".\", \"?\", \"!\", \",\")\n",
        "    Input:\n",
        "        - w: a string, input text\n",
        "    Output:\n",
        "        - a string, the cleaned text\n",
        "    '''\n",
        "    w = unicode_to_ascii(w.lower().strip())\n",
        "\n",
        "    # creating a space between a word and the punctuation following it\n",
        "    # eg: \"he is a boy.\" => \"he is a boy .\"\n",
        "    # Reference:- https://stackoverflow.com/questions/3645931/python-padding-punctuation-with-white-spaces-keeping-punctuation\n",
        "    w = re.sub(r\"([?.!,¿])\", r\" \\1 \", w)\n",
        "    w = re.sub(r'[\" \"]+', \" \", w)\n",
        "\n",
        "    # replacing everything with space except (a-z, A-Z, \".\", \"?\", \"!\", \",\")\n",
        "    w = re.sub(r\"[^a-zA-Z?.!,¿]+\", \" \", w)\n",
        "\n",
        "    w = w.strip()\n",
        "\n",
        "    # adding a start and an end token to the sentence\n",
        "    # so that the model know when to start and stop predicting.\n",
        "    #w = '<start> ' + w + ' <end>'\n",
        "    \n",
        "    return w"
      ],
      "execution_count": 8,
      "outputs": []
    },
    {
      "cell_type": "code",
      "metadata": {
        "id": "AEVxX1XF_KVX"
      },
      "source": [
        "# Load the dataset: sentence in english, sentence in spanish \n",
        "df=pd.read_csv(train_filenamepath, sep=\"\\t\", header=None, names=[TARGET_COLUMN,INPUT_COLUMN], usecols=[0,1], \n",
        "               nrows=NUM_SAMPLES)"
      ],
      "execution_count": 9,
      "outputs": []
    },
    {
      "cell_type": "code",
      "metadata": {
        "colab": {
          "base_uri": "https://localhost:8080/",
          "height": 419
        },
        "id": "zc7WSyWC_Oaf",
        "outputId": "810521a4-dba2-4b15-d9ae-de5573cbd0b6"
      },
      "source": [
        "df"
      ],
      "execution_count": 10,
      "outputs": [
        {
          "output_type": "execute_result",
          "data": {
            "text/html": [
              "<div>\n",
              "<style scoped>\n",
              "    .dataframe tbody tr th:only-of-type {\n",
              "        vertical-align: middle;\n",
              "    }\n",
              "\n",
              "    .dataframe tbody tr th {\n",
              "        vertical-align: top;\n",
              "    }\n",
              "\n",
              "    .dataframe thead th {\n",
              "        text-align: right;\n",
              "    }\n",
              "</style>\n",
              "<table border=\"1\" class=\"dataframe\">\n",
              "  <thead>\n",
              "    <tr style=\"text-align: right;\">\n",
              "      <th></th>\n",
              "      <th>target</th>\n",
              "      <th>input</th>\n",
              "    </tr>\n",
              "  </thead>\n",
              "  <tbody>\n",
              "    <tr>\n",
              "      <th>0</th>\n",
              "      <td>Go.</td>\n",
              "      <td>Ve.</td>\n",
              "    </tr>\n",
              "    <tr>\n",
              "      <th>1</th>\n",
              "      <td>Go.</td>\n",
              "      <td>Vete.</td>\n",
              "    </tr>\n",
              "    <tr>\n",
              "      <th>2</th>\n",
              "      <td>Go.</td>\n",
              "      <td>Vaya.</td>\n",
              "    </tr>\n",
              "    <tr>\n",
              "      <th>3</th>\n",
              "      <td>Go.</td>\n",
              "      <td>Váyase.</td>\n",
              "    </tr>\n",
              "    <tr>\n",
              "      <th>4</th>\n",
              "      <td>Hi.</td>\n",
              "      <td>Hola.</td>\n",
              "    </tr>\n",
              "    <tr>\n",
              "      <th>...</th>\n",
              "      <td>...</td>\n",
              "      <td>...</td>\n",
              "    </tr>\n",
              "    <tr>\n",
              "      <th>119995</th>\n",
              "      <td>What happened to the book I put here yesterday?</td>\n",
              "      <td>¿Qué le pasó al libro que dejé aquí ayer?</td>\n",
              "    </tr>\n",
              "    <tr>\n",
              "      <th>119996</th>\n",
              "      <td>What on earth do you want to talk to Tom about?</td>\n",
              "      <td>¿De qué diablos quieres hablar con Tom?</td>\n",
              "    </tr>\n",
              "    <tr>\n",
              "      <th>119997</th>\n",
              "      <td>What time was it when you entered the building?</td>\n",
              "      <td>¿Qué hora era cuando entraste en el edificio?</td>\n",
              "    </tr>\n",
              "    <tr>\n",
              "      <th>119998</th>\n",
              "      <td>What we want to do next is check the oil level.</td>\n",
              "      <td>Lo que queremos hacer es medir el nivel de ace...</td>\n",
              "    </tr>\n",
              "    <tr>\n",
              "      <th>119999</th>\n",
              "      <td>What were you and Tom talking about last night?</td>\n",
              "      <td>¿De qué hablabais Tom y tú ayer por la noche?</td>\n",
              "    </tr>\n",
              "  </tbody>\n",
              "</table>\n",
              "<p>120000 rows × 2 columns</p>\n",
              "</div>"
            ],
            "text/plain": [
              "                                                 target                                              input\n",
              "0                                                   Go.                                                Ve.\n",
              "1                                                   Go.                                              Vete.\n",
              "2                                                   Go.                                              Vaya.\n",
              "3                                                   Go.                                            Váyase.\n",
              "4                                                   Hi.                                              Hola.\n",
              "...                                                 ...                                                ...\n",
              "119995  What happened to the book I put here yesterday?          ¿Qué le pasó al libro que dejé aquí ayer?\n",
              "119996  What on earth do you want to talk to Tom about?            ¿De qué diablos quieres hablar con Tom?\n",
              "119997  What time was it when you entered the building?      ¿Qué hora era cuando entraste en el edificio?\n",
              "119998  What we want to do next is check the oil level.  Lo que queremos hacer es medir el nivel de ace...\n",
              "119999  What were you and Tom talking about last night?      ¿De qué hablabais Tom y tú ayer por la noche?\n",
              "\n",
              "[120000 rows x 2 columns]"
            ]
          },
          "metadata": {
            "tags": []
          },
          "execution_count": 10
        }
      ]
    },
    {
      "cell_type": "code",
      "metadata": {
        "id": "Q_HFfLzwzAHy"
      },
      "source": [
        "train, test = train_test_split(df, test_size=0.2)"
      ],
      "execution_count": 11,
      "outputs": []
    },
    {
      "cell_type": "code",
      "metadata": {
        "colab": {
          "base_uri": "https://localhost:8080/",
          "height": 419
        },
        "id": "Ru9A2bnpzJ1U",
        "outputId": "0d494b7e-d822-4de6-aac0-aacb00e1fb87"
      },
      "source": [
        "train"
      ],
      "execution_count": 12,
      "outputs": [
        {
          "output_type": "execute_result",
          "data": {
            "text/html": [
              "<div>\n",
              "<style scoped>\n",
              "    .dataframe tbody tr th:only-of-type {\n",
              "        vertical-align: middle;\n",
              "    }\n",
              "\n",
              "    .dataframe tbody tr th {\n",
              "        vertical-align: top;\n",
              "    }\n",
              "\n",
              "    .dataframe thead th {\n",
              "        text-align: right;\n",
              "    }\n",
              "</style>\n",
              "<table border=\"1\" class=\"dataframe\">\n",
              "  <thead>\n",
              "    <tr style=\"text-align: right;\">\n",
              "      <th></th>\n",
              "      <th>target</th>\n",
              "      <th>input</th>\n",
              "    </tr>\n",
              "  </thead>\n",
              "  <tbody>\n",
              "    <tr>\n",
              "      <th>114938</th>\n",
              "      <td>Tom and Mary finally decided to get married.</td>\n",
              "      <td>Tom y Mary finalmente decidieron casarse.</td>\n",
              "    </tr>\n",
              "    <tr>\n",
              "      <th>90791</th>\n",
              "      <td>I realized that that box was empty.</td>\n",
              "      <td>Me di cuenta de que esa caja estaba vacía.</td>\n",
              "    </tr>\n",
              "    <tr>\n",
              "      <th>41806</th>\n",
              "      <td>I haven't forgotten her.</td>\n",
              "      <td>No la he olvidado.</td>\n",
              "    </tr>\n",
              "    <tr>\n",
              "      <th>36909</th>\n",
              "      <td>I know what I'm saying.</td>\n",
              "      <td>Yo sé lo que estoy diciendo.</td>\n",
              "    </tr>\n",
              "    <tr>\n",
              "      <th>48529</th>\n",
              "      <td>This article is for sale.</td>\n",
              "      <td>Este artículo está a la venta.</td>\n",
              "    </tr>\n",
              "    <tr>\n",
              "      <th>...</th>\n",
              "      <td>...</td>\n",
              "      <td>...</td>\n",
              "    </tr>\n",
              "    <tr>\n",
              "      <th>100610</th>\n",
              "      <td>I've been waiting for her for an hour.</td>\n",
              "      <td>La estoy esperando hace una hora.</td>\n",
              "    </tr>\n",
              "    <tr>\n",
              "      <th>97108</th>\n",
              "      <td>I don't want to go to lunch with Tom.</td>\n",
              "      <td>No quiero ir a almorzar con Tom.</td>\n",
              "    </tr>\n",
              "    <tr>\n",
              "      <th>98645</th>\n",
              "      <td>Tom can't find what he's looking for.</td>\n",
              "      <td>Tom no puede encontrar lo que está buscando.</td>\n",
              "    </tr>\n",
              "    <tr>\n",
              "      <th>34874</th>\n",
              "      <td>We left him some cake.</td>\n",
              "      <td>Le dejamos un poco de tarta.</td>\n",
              "    </tr>\n",
              "    <tr>\n",
              "      <th>24107</th>\n",
              "      <td>I'm going to Boston.</td>\n",
              "      <td>Voy a ir a Boston.</td>\n",
              "    </tr>\n",
              "  </tbody>\n",
              "</table>\n",
              "<p>96000 rows × 2 columns</p>\n",
              "</div>"
            ],
            "text/plain": [
              "                                              target                                         input\n",
              "114938  Tom and Mary finally decided to get married.     Tom y Mary finalmente decidieron casarse.\n",
              "90791            I realized that that box was empty.    Me di cuenta de que esa caja estaba vacía.\n",
              "41806                       I haven't forgotten her.                            No la he olvidado.\n",
              "36909                        I know what I'm saying.                  Yo sé lo que estoy diciendo.\n",
              "48529                      This article is for sale.                Este artículo está a la venta.\n",
              "...                                              ...                                           ...\n",
              "100610        I've been waiting for her for an hour.             La estoy esperando hace una hora.\n",
              "97108          I don't want to go to lunch with Tom.              No quiero ir a almorzar con Tom.\n",
              "98645          Tom can't find what he's looking for.  Tom no puede encontrar lo que está buscando.\n",
              "34874                         We left him some cake.                  Le dejamos un poco de tarta.\n",
              "24107                           I'm going to Boston.                            Voy a ir a Boston.\n",
              "\n",
              "[96000 rows x 2 columns]"
            ]
          },
          "metadata": {
            "tags": []
          },
          "execution_count": 12
        }
      ]
    },
    {
      "cell_type": "code",
      "metadata": {
        "colab": {
          "base_uri": "https://localhost:8080/",
          "height": 419
        },
        "id": "jkh712IPzKW6",
        "outputId": "02980b20-f7d5-4492-850f-65ca94503e42"
      },
      "source": [
        "test"
      ],
      "execution_count": 13,
      "outputs": [
        {
          "output_type": "execute_result",
          "data": {
            "text/html": [
              "<div>\n",
              "<style scoped>\n",
              "    .dataframe tbody tr th:only-of-type {\n",
              "        vertical-align: middle;\n",
              "    }\n",
              "\n",
              "    .dataframe tbody tr th {\n",
              "        vertical-align: top;\n",
              "    }\n",
              "\n",
              "    .dataframe thead th {\n",
              "        text-align: right;\n",
              "    }\n",
              "</style>\n",
              "<table border=\"1\" class=\"dataframe\">\n",
              "  <thead>\n",
              "    <tr style=\"text-align: right;\">\n",
              "      <th></th>\n",
              "      <th>target</th>\n",
              "      <th>input</th>\n",
              "    </tr>\n",
              "  </thead>\n",
              "  <tbody>\n",
              "    <tr>\n",
              "      <th>59403</th>\n",
              "      <td>Can't you make up your mind?</td>\n",
              "      <td>¿No puedes decidirte?</td>\n",
              "    </tr>\n",
              "    <tr>\n",
              "      <th>85135</th>\n",
              "      <td>Tom offered Mary a glass of wine.</td>\n",
              "      <td>Tomás le ofreció una copa de vino a María.</td>\n",
              "    </tr>\n",
              "    <tr>\n",
              "      <th>64613</th>\n",
              "      <td>He can speak Russian as well.</td>\n",
              "      <td>Él también puede hablar ruso.</td>\n",
              "    </tr>\n",
              "    <tr>\n",
              "      <th>103334</th>\n",
              "      <td>I've been trying to get your attention.</td>\n",
              "      <td>He estado tratando de captar tu atención.</td>\n",
              "    </tr>\n",
              "    <tr>\n",
              "      <th>31337</th>\n",
              "      <td>Do you like that song?</td>\n",
              "      <td>¿Te gusta esta canción?</td>\n",
              "    </tr>\n",
              "    <tr>\n",
              "      <th>...</th>\n",
              "      <td>...</td>\n",
              "      <td>...</td>\n",
              "    </tr>\n",
              "    <tr>\n",
              "      <th>66963</th>\n",
              "      <td>That's almost the same thing.</td>\n",
              "      <td>Es casi la misma cosa.</td>\n",
              "    </tr>\n",
              "    <tr>\n",
              "      <th>116823</th>\n",
              "      <td>Tom was quite good-looking when he was young.</td>\n",
              "      <td>Tom era bastante lindo cuando era joven.</td>\n",
              "    </tr>\n",
              "    <tr>\n",
              "      <th>65633</th>\n",
              "      <td>I once knew someone like you.</td>\n",
              "      <td>Una vez conocí a alguien como tú.</td>\n",
              "    </tr>\n",
              "    <tr>\n",
              "      <th>9692</th>\n",
              "      <td>I'll let Tom go.</td>\n",
              "      <td>Dejaré ir a Tom.</td>\n",
              "    </tr>\n",
              "    <tr>\n",
              "      <th>97002</th>\n",
              "      <td>I clicked the first link on the page.</td>\n",
              "      <td>Hice click al primer enlace en la página.</td>\n",
              "    </tr>\n",
              "  </tbody>\n",
              "</table>\n",
              "<p>24000 rows × 2 columns</p>\n",
              "</div>"
            ],
            "text/plain": [
              "                                               target                                       input\n",
              "59403                    Can't you make up your mind?                       ¿No puedes decidirte?\n",
              "85135               Tom offered Mary a glass of wine.  Tomás le ofreció una copa de vino a María.\n",
              "64613                   He can speak Russian as well.               Él también puede hablar ruso.\n",
              "103334        I've been trying to get your attention.   He estado tratando de captar tu atención.\n",
              "31337                          Do you like that song?                     ¿Te gusta esta canción?\n",
              "...                                               ...                                         ...\n",
              "66963                   That's almost the same thing.                      Es casi la misma cosa.\n",
              "116823  Tom was quite good-looking when he was young.    Tom era bastante lindo cuando era joven.\n",
              "65633                   I once knew someone like you.           Una vez conocí a alguien como tú.\n",
              "9692                                 I'll let Tom go.                            Dejaré ir a Tom.\n",
              "97002           I clicked the first link on the page.   Hice click al primer enlace en la página.\n",
              "\n",
              "[24000 rows x 2 columns]"
            ]
          },
          "metadata": {
            "tags": []
          },
          "execution_count": 13
        }
      ]
    },
    {
      "cell_type": "code",
      "metadata": {
        "colab": {
          "base_uri": "https://localhost:8080/"
        },
        "id": "wvakLoF1y4wg",
        "outputId": "1abc43ee-3ff1-4862-db1c-a441a6fd28da"
      },
      "source": [
        "# Preprocess the input data\n",
        "input_data=train[INPUT_COLUMN].apply(lambda x : preprocess_sentence(x)).tolist()\n",
        "# Preprocess and include the end of sentence token to the target text\n",
        "target_data=train[TARGET_COLUMN].apply(lambda x : preprocess_sentence(x)+ ' <eos>').tolist()\n",
        "# Preprocess and include a start of setence token to the input text to the decoder, it is right shifted\n",
        "target_input_data=train[TARGET_COLUMN].apply(lambda x : '<sos> '+ preprocess_sentence(x)).tolist()\n",
        "\n",
        "print(input_data[:3])\n",
        "print(target_data[:3])\n",
        "print(target_input_data[:3])"
      ],
      "execution_count": 14,
      "outputs": [
        {
          "output_type": "stream",
          "text": [
            "['tom y mary finalmente decidieron casarse .', 'me di cuenta de que esa caja estaba vacia .', 'no la he olvidado .']\n",
            "['tom and mary finally decided to get married . <eos>', 'i realized that that box was empty . <eos>', 'i haven t forgotten her . <eos>']\n",
            "['<sos> tom and mary finally decided to get married .', '<sos> i realized that that box was empty .', '<sos> i haven t forgotten her .']\n"
          ],
          "name": "stdout"
        }
      ]
    },
    {
      "cell_type": "code",
      "metadata": {
        "colab": {
          "base_uri": "https://localhost:8080/"
        },
        "id": "KnnofdIM_RDT",
        "outputId": "06daf75b-28e0-451a-cfba-fca34501e347"
      },
      "source": [
        "# Create a tokenizer for the input texts(Spanish) and fit it to them \n",
        "tokenizer_inputs = Tokenizer(num_words=MAX_VOCAB_SIZE, filters='')\n",
        "tokenizer_inputs.fit_on_texts(input_data)\n",
        "# Tokenize and transform input texts to sequence of integers\n",
        "input_sequences = tokenizer_inputs.texts_to_sequences(input_data)\n",
        "# Claculate the max length\n",
        "input_max_len = max(len(s) for s in input_sequences)\n",
        "print('Max Input Length: ', input_max_len)\n",
        "# Show some example of tokenize sentences, useful to check the tokenization\n",
        "print(input_data[19995])\n",
        "print(input_sequences[19995])\n"
      ],
      "execution_count": 15,
      "outputs": [
        {
          "output_type": "stream",
          "text": [
            "Max Input Length:  20\n",
            "no se movio nadie .\n",
            "[4, 15, 3729, 95, 1]\n"
          ],
          "name": "stdout"
        }
      ]
    },
    {
      "cell_type": "code",
      "metadata": {
        "colab": {
          "base_uri": "https://localhost:8080/"
        },
        "id": "8wgcQpCr_iOj",
        "outputId": "eddd2c81-80b3-4091-fc0c-6b9afbb1c963"
      },
      "source": [
        "# tokenize the outputs(English)\n",
        "# don't filter out special characters (filters = '')\n",
        "# otherwise <sos> and <eos> won't appear\n",
        "# By default, Keras’ Tokenizer will trim out all the punctuations, which is not what we want. \n",
        "# we can just set filters as blank here.\n",
        "\n",
        "# Create a tokenizer for the output texts and fit it to them \n",
        "tokenizer_outputs = Tokenizer(num_words=MAX_VOCAB_SIZE, filters='')\n",
        "tokenizer_outputs.fit_on_texts(target_data)\n",
        "tokenizer_outputs.fit_on_texts(target_input_data)\n",
        "# Tokenize and transform output texts to sequence of integers\n",
        "target_sequences = tokenizer_outputs.texts_to_sequences(target_data)\n",
        "target_sequences_inputs = tokenizer_outputs.texts_to_sequences(target_input_data)\n",
        "\n",
        "# determine maximum length output sequence\n",
        "target_max_len = max(len(s) for s in target_sequences)\n",
        "print('Max Target Length: ', target_max_len)\n",
        "\n",
        "print(target_data[19995])\n",
        "print(target_sequences[19995])\n",
        "print(target_input_data[19995])\n",
        "print(target_sequences_inputs[19995])"
      ],
      "execution_count": 16,
      "outputs": [
        {
          "output_type": "stream",
          "text": [
            "Max Target Length:  16\n",
            "no one moved . <eos>\n",
            "[70, 74, 902, 1, 2]\n",
            "<sos> no one moved .\n",
            "[3, 70, 74, 902, 1]\n"
          ],
          "name": "stdout"
        }
      ]
    },
    {
      "cell_type": "code",
      "metadata": {
        "colab": {
          "base_uri": "https://localhost:8080/"
        },
        "id": "JyFQ1Uj-BC7_",
        "outputId": "c19d486c-b0b1-4f9f-8038-27cc0d80ba1f"
      },
      "source": [
        "#Creating Vocabularies\n",
        "# get the word to index mapping for input language\n",
        "word2idx_inputs = tokenizer_inputs.word_index\n",
        "print('Found %s unique input tokens.' % len(word2idx_inputs))\n",
        "\n",
        "# get the word to index mapping for output language\n",
        "word2idx_outputs = tokenizer_outputs.word_index\n",
        "print('Found %s unique output tokens.' % len(word2idx_outputs))\n",
        "\n",
        "# store number of output and input words for later\n",
        "# remember to add 1 since indexing starts at 1\n",
        "num_words_output = len(word2idx_outputs) + 1\n",
        "num_words_inputs = len(word2idx_inputs) + 1\n",
        "\n",
        "# map indexes back into real words\n",
        "# so we can view the results\n",
        "idx2word_inputs = {v:k for k, v in word2idx_inputs.items()}\n",
        "idx2word_outputs = {v:k for k, v in word2idx_outputs.items()}"
      ],
      "execution_count": 17,
      "outputs": [
        {
          "output_type": "stream",
          "text": [
            "Found 20977 unique input tokens.\n",
            "Found 10944 unique output tokens.\n"
          ],
          "name": "stdout"
        }
      ]
    },
    {
      "cell_type": "code",
      "metadata": {
        "colab": {
          "base_uri": "https://localhost:8080/"
        },
        "id": "raNa91bmBYyI",
        "outputId": "8d37882b-0e66-402e-ce42-80476405ee30"
      },
      "source": [
        "#Padding - necessary to pad the sentences with 0 at the end so all the sentences have the smae length\n",
        "# pad the input sequences\n",
        "encoder_inputs = pad_sequences(input_sequences, maxlen=input_max_len, padding='post')\n",
        "print(\"encoder_inputs.shape:\", encoder_inputs.shape)\n",
        "print(\"encoder_inputs[0]:\", encoder_inputs[0])\n",
        "# pad the decoder input sequences\n",
        "decoder_inputs = pad_sequences(target_sequences_inputs, maxlen=target_max_len, padding='post')\n",
        "print(\"decoder_inputs[0]:\", decoder_inputs[0])\n",
        "print(\"decoder_inputs.shape:\", decoder_inputs.shape)\n",
        "# pad the target output sequences\n",
        "decoder_targets = pad_sequences(target_sequences, maxlen=target_max_len, padding='post')"
      ],
      "execution_count": 18,
      "outputs": [
        {
          "output_type": "stream",
          "text": [
            "encoder_inputs.shape: (96000, 20)\n",
            "encoder_inputs[0]: [   5   37   28  850 2510 1324    1    0    0    0    0    0    0    0\n",
            "    0    0    0    0    0    0]\n",
            "decoder_inputs[0]: [  3   8  50  35 721 427   7  67 260   1   0   0   0   0   0   0]\n",
            "decoder_inputs.shape: (96000, 16)\n"
          ],
          "name": "stdout"
        }
      ]
    },
    {
      "cell_type": "code",
      "metadata": {
        "id": "47lub20SBtW6"
      },
      "source": [
        "# Define a dataset \n",
        "dataset = tf.data.Dataset.from_tensor_slices(\n",
        "    (encoder_inputs, decoder_inputs, decoder_targets))\n",
        "dataset = dataset.shuffle(len(input_data)).batch(\n",
        "    BATCH_SIZE, drop_remainder=True)"
      ],
      "execution_count": 19,
      "outputs": []
    },
    {
      "cell_type": "code",
      "metadata": {
        "id": "6E8iyHhpB4OK"
      },
      "source": [
        "class Encoder(tf.keras.Model):\n",
        "    def __init__(self, vocab_size, embedding_dim, hidden_dim):\n",
        "        super(Encoder, self).__init__()\n",
        "        self.hidden_dim = hidden_dim\n",
        "        # Define the embedding layer\n",
        "        self.embedding = tf.keras.layers.Embedding(vocab_size, embedding_dim)\n",
        "        # Define the RNN layer, LSTM\n",
        "        self.lstm = tf.keras.layers.LSTM(\n",
        "            hidden_dim, return_sequences=True, return_state=True)\n",
        "\n",
        "    def call(self, input_sequence, states):\n",
        "        # Embed the input\n",
        "        embed = self.embedding(input_sequence)\n",
        "        # Call the LSTM unit\n",
        "        output, state_h, state_c = self.lstm(embed, initial_state=states)\n",
        "\n",
        "        return output, state_h, state_c\n",
        "\n",
        "    def init_states(self, batch_size):\n",
        "        # Return a all 0s initial states\n",
        "        return (tf.zeros([batch_size, self.hidden_dim]),\n",
        "                tf.zeros([batch_size, self.hidden_dim]))"
      ],
      "execution_count": 20,
      "outputs": []
    },
    {
      "cell_type": "code",
      "metadata": {
        "id": "CoBdBhckB8YA"
      },
      "source": [
        "class Decoder(tf.keras.Model):\n",
        "    def __init__(self, vocab_size, embedding_dim, hidden_dim):\n",
        "        super(Decoder, self).__init__()\n",
        "        self.hidden_dim = hidden_dim\n",
        "        # Define the embedding layer\n",
        "        self.embedding = tf.keras.layers.Embedding(vocab_size, embedding_dim)\n",
        "        # Define the RNN layer, LSTM\n",
        "        self.lstm = tf.keras.layers.LSTM(\n",
        "            hidden_dim, return_sequences=True, return_state=True)\n",
        "        self.dense = tf.keras.layers.Dense(vocab_size)\n",
        "\n",
        "    def call(self, input_sequence, state):\n",
        "        # Embed the input\n",
        "        embed = self.embedding(input_sequence)\n",
        "        # Call the LSTM unit\n",
        "        lstm_out, state_h, state_c = self.lstm(embed, state)\n",
        "        # Dense layer to predict output token\n",
        "        logits = self.dense(lstm_out)\n",
        "\n",
        "        return logits, state_h, state_c"
      ],
      "execution_count": 21,
      "outputs": []
    },
    {
      "cell_type": "code",
      "metadata": {
        "colab": {
          "base_uri": "https://localhost:8080/"
        },
        "id": "EbvH_DS6CAh1",
        "outputId": "ac0c9c63-4345-473b-d911-ce3700336352"
      },
      "source": [
        "#Set the length of the input and output vocabulary\n",
        "num_words_inputs = len(word2idx_inputs) + 1\n",
        "num_words_output = len(word2idx_outputs) + 1\n",
        "#Create the encoder\n",
        "encoder = Encoder(num_words_inputs, EMBEDDING_DIM, HIDDEN_DIM)\n",
        "# Get the initial states\n",
        "initial_state = encoder.init_states(1)\n",
        "# Call the encoder for testing\n",
        "test_encoder_output = encoder(tf.constant(\n",
        "    [[1, 23, 4, 5, 0, 0]]), initial_state)\n",
        "print(test_encoder_output[0].shape)\n",
        "# Create the decoder\n",
        "decoder = Decoder(num_words_output, EMBEDDING_DIM, HIDDEN_DIM)\n",
        "# Get the initial states\n",
        "de_initial_state = test_encoder_output[1:]\n",
        "# Call the decoder for testing\n",
        "test_decoder_output = decoder(tf.constant(\n",
        "    [[1, 3, 5, 7, 9, 0, 0, 0]]), de_initial_state)\n",
        "print(test_decoder_output[0].shape)"
      ],
      "execution_count": 22,
      "outputs": [
        {
          "output_type": "stream",
          "text": [
            "(1, 6, 1024)\n",
            "(1, 8, 10945)\n"
          ],
          "name": "stdout"
        }
      ]
    },
    {
      "cell_type": "code",
      "metadata": {
        "id": "oso4D35RCC-N"
      },
      "source": [
        "def loss_func(targets, logits):\n",
        "    crossentropy = tf.keras.losses.SparseCategoricalCrossentropy(\n",
        "        from_logits=True)\n",
        "    # Mask padding values, they do not have to compute for loss\n",
        "    mask = tf.math.logical_not(tf.math.equal(targets, 0))\n",
        "    mask = tf.cast(mask, dtype=tf.int64)\n",
        "    # Calculate the loss value\n",
        "    loss = crossentropy(targets, logits, sample_weight=mask)\n",
        "\n",
        "    return loss\n",
        "\n",
        "def accuracy_fn(y_true, y_pred):\n",
        "    # y_pred shape is batch_size, seq length, vocab size\n",
        "    # y_true shape is batch_size, seq length\n",
        "    pred_values = K.cast(K.argmax(y_pred, axis=-1), dtype='int32')\n",
        "    correct = K.cast(K.equal(y_true, pred_values), dtype='float32')\n",
        "\n",
        "    # 0 is padding, don't include those\n",
        "    mask = K.cast(K.greater(y_true, 0), dtype='float32')\n",
        "    n_correct = K.sum(mask * correct)\n",
        "    n_total = K.sum(mask)\n",
        "  \n",
        "    return n_correct / n_total"
      ],
      "execution_count": 23,
      "outputs": []
    },
    {
      "cell_type": "code",
      "metadata": {
        "id": "qwUPWQE7CicV"
      },
      "source": [
        "# Use the @tf.function decorator to take advance of static graph computation\n",
        "@tf.function\n",
        "def train_step(input_seq, target_seq_in, target_seq_out, en_initial_states, optimizer):\n",
        "    ''' A training step, train a batch of the data and return the loss value reached\n",
        "        Input:\n",
        "        - input_seq: array of integers, shape [batch_size, max_seq_len, embedding dim].\n",
        "            the input sequence\n",
        "        - target_seq_out: array of integers, shape [batch_size, max_seq_len, embedding dim].\n",
        "            the target seq, our target sequence\n",
        "        - target_seq_in: array of integers, shape [batch_size, max_seq_len, embedding dim].\n",
        "            the input sequence to the decoder, we use Teacher Forcing\n",
        "        - en_initial_states: tuple of arrays of shape [batch_size, hidden_dim].\n",
        "            the initial state of the encoder\n",
        "        - optimizer: a tf.keras.optimizers.\n",
        "        Output:\n",
        "        - loss: loss value\n",
        "        \n",
        "    '''\n",
        "    # Network’s computations need to be put under tf.GradientTape() to keep track of gradients\n",
        "    with tf.GradientTape() as tape:\n",
        "        # Get the encoder outputs\n",
        "        en_outputs = encoder(input_seq, en_initial_states)\n",
        "        # Set the encoder and decoder states\n",
        "        en_states = en_outputs[1:]\n",
        "        de_states = en_states\n",
        "        # Get the encoder outputs\n",
        "        de_outputs = decoder(target_seq_in, de_states)\n",
        "        # Take the actual output\n",
        "        logits = de_outputs[0]\n",
        "        # Calculate the loss function\n",
        "        loss = loss_func(target_seq_out, logits)\n",
        "        acc = accuracy_fn(target_seq_out, logits)\n",
        "\n",
        "    variables = encoder.trainable_variables + decoder.trainable_variables\n",
        "    # Calculate the gradients for the variables\n",
        "    gradients = tape.gradient(loss, variables)\n",
        "    # Apply the gradients and update the optimizer\n",
        "    optimizer.apply_gradients(zip(gradients, variables))\n",
        "\n",
        "    return loss, acc"
      ],
      "execution_count": 24,
      "outputs": []
    },
    {
      "cell_type": "code",
      "metadata": {
        "id": "2I7p8u-cCnE4"
      },
      "source": [
        "# Create the main train function\n",
        "def main_train(encoder, decoder, dataset, n_epochs, batch_size, optimizer, checkpoint, checkpoint_prefix):\n",
        "    \n",
        "    losses = []\n",
        "    accuracies = []\n",
        "\n",
        "    for e in range(n_epochs):\n",
        "        # Get the initial time\n",
        "        start = time.time()\n",
        "        # Get the initial state for the encoder\n",
        "        en_initial_states = encoder.init_states(batch_size)\n",
        "        # For every batch data\n",
        "        for batch, (input_seq, target_seq_in, target_seq_out) in enumerate(dataset.take(-1)):\n",
        "            # Train and get the loss value \n",
        "            loss, accuracy = train_step(input_seq, target_seq_in, target_seq_out, en_initial_states, optimizer)\n",
        "        \n",
        "            if batch % 100 == 0:\n",
        "                # Store the loss and accuracy values\n",
        "                losses.append(loss)\n",
        "                accuracies.append(accuracy)\n",
        "                print('Epoch {} Batch {} Loss {:.4f} Acc:{:.4f}'.format(e + 1, batch, loss.numpy(), accuracy.numpy()))\n",
        "                \n",
        "        # saving (checkpoint) the model every 2 epochs\n",
        "        if (e + 1) % 2 == 0:\n",
        "            checkpoint.save(file_prefix = checkpoint_prefix)\n",
        "    \n",
        "        print('Time taken for 1 epoch {:.4f} sec\\n'.format(time.time() - start))\n",
        "        \n",
        "    return losses, accuracies"
      ],
      "execution_count": 25,
      "outputs": []
    },
    {
      "cell_type": "code",
      "metadata": {
        "colab": {
          "base_uri": "https://localhost:8080/"
        },
        "id": "e71ApyYqC0Fe",
        "outputId": "74d2f138-3524-4709-9f52-bdc74ccd3629"
      },
      "source": [
        "# Create an Adam optimizer and clips gradients by norm\n",
        "optimizer = tf.keras.optimizers.Adam(clipnorm=5.0)\n",
        "# Create a checkpoint object to save the model\n",
        "checkpoint_dir = '/content/drive/MyDrive/machine-translation/models/spa-eng/training_ckpt_seq2seq'\n",
        "checkpoint_prefix = os.path.join(checkpoint_dir, \"ckpt\")\n",
        "checkpoint = tf.train.Checkpoint(optimizer=optimizer,\n",
        "                                 encoder=encoder,\n",
        "                                 decoder=decoder)\n",
        "\n",
        "losses, accuracies = main_train(encoder, decoder, dataset, EPOCHS, BATCH_SIZE, optimizer, checkpoint, checkpoint_prefix)"
      ],
      "execution_count": 27,
      "outputs": [
        {
          "output_type": "stream",
          "text": [
            "Epoch 1 Batch 0 Loss 4.6415 Acc:0.0000\n",
            "Epoch 1 Batch 100 Loss 2.3900 Acc:0.2817\n",
            "Epoch 1 Batch 200 Loss 2.1493 Acc:0.2995\n",
            "Epoch 1 Batch 300 Loss 2.1080 Acc:0.3242\n",
            "Epoch 1 Batch 400 Loss 1.9340 Acc:0.3732\n",
            "Epoch 1 Batch 500 Loss 1.8414 Acc:0.3710\n",
            "Epoch 1 Batch 600 Loss 1.7714 Acc:0.3794\n",
            "Epoch 1 Batch 700 Loss 1.6927 Acc:0.3862\n",
            "Time taken for 1 epoch 105.7384 sec\n",
            "\n",
            "Epoch 2 Batch 0 Loss 1.7889 Acc:0.3851\n",
            "Epoch 2 Batch 100 Loss 1.7638 Acc:0.3832\n",
            "Epoch 2 Batch 200 Loss 1.5989 Acc:0.3897\n",
            "Epoch 2 Batch 300 Loss 1.6811 Acc:0.3990\n",
            "Epoch 2 Batch 400 Loss 1.7086 Acc:0.3898\n",
            "Epoch 2 Batch 500 Loss 1.7565 Acc:0.3915\n",
            "Epoch 2 Batch 600 Loss 1.6338 Acc:0.4223\n",
            "Epoch 2 Batch 700 Loss 1.5318 Acc:0.4238\n",
            "Time taken for 1 epoch 105.5648 sec\n",
            "\n",
            "Epoch 3 Batch 0 Loss 1.5467 Acc:0.4200\n",
            "Epoch 3 Batch 100 Loss 1.4642 Acc:0.4662\n",
            "Epoch 3 Batch 200 Loss 1.4752 Acc:0.4577\n",
            "Epoch 3 Batch 300 Loss 1.4620 Acc:0.4638\n",
            "Epoch 3 Batch 400 Loss 1.3383 Acc:0.4935\n",
            "Epoch 3 Batch 500 Loss 1.3900 Acc:0.4844\n",
            "Epoch 3 Batch 600 Loss 1.3527 Acc:0.4895\n",
            "Epoch 3 Batch 700 Loss 1.2894 Acc:0.5029\n",
            "Time taken for 1 epoch 106.0958 sec\n",
            "\n",
            "Epoch 4 Batch 0 Loss 1.2281 Acc:0.4985\n",
            "Epoch 4 Batch 100 Loss 1.2252 Acc:0.5144\n",
            "Epoch 4 Batch 200 Loss 1.1588 Acc:0.5408\n",
            "Epoch 4 Batch 300 Loss 1.1660 Acc:0.5221\n",
            "Epoch 4 Batch 400 Loss 1.2153 Acc:0.5153\n",
            "Epoch 4 Batch 500 Loss 1.1485 Acc:0.5473\n",
            "Epoch 4 Batch 600 Loss 1.1735 Acc:0.5360\n",
            "Epoch 4 Batch 700 Loss 1.1817 Acc:0.5303\n",
            "Time taken for 1 epoch 107.5815 sec\n",
            "\n",
            "Epoch 5 Batch 0 Loss 1.0768 Acc:0.5727\n",
            "Epoch 5 Batch 100 Loss 1.0637 Acc:0.5540\n",
            "Epoch 5 Batch 200 Loss 1.0714 Acc:0.5642\n",
            "Epoch 5 Batch 300 Loss 1.0650 Acc:0.5764\n",
            "Epoch 5 Batch 400 Loss 0.9961 Acc:0.5672\n",
            "Epoch 5 Batch 500 Loss 0.9712 Acc:0.6059\n",
            "Epoch 5 Batch 600 Loss 1.0324 Acc:0.5899\n",
            "Epoch 5 Batch 700 Loss 0.9304 Acc:0.6145\n",
            "Time taken for 1 epoch 105.9140 sec\n",
            "\n",
            "Epoch 6 Batch 0 Loss 0.8856 Acc:0.6103\n",
            "Epoch 6 Batch 100 Loss 0.9026 Acc:0.6171\n",
            "Epoch 6 Batch 200 Loss 0.9366 Acc:0.6059\n",
            "Epoch 6 Batch 300 Loss 0.8614 Acc:0.6380\n",
            "Epoch 6 Batch 400 Loss 0.8391 Acc:0.6242\n",
            "Epoch 6 Batch 500 Loss 0.8771 Acc:0.6338\n",
            "Epoch 6 Batch 600 Loss 0.8593 Acc:0.6280\n",
            "Epoch 6 Batch 700 Loss 0.8600 Acc:0.6365\n",
            "Time taken for 1 epoch 106.5668 sec\n",
            "\n",
            "Epoch 7 Batch 0 Loss 0.7995 Acc:0.6468\n",
            "Epoch 7 Batch 100 Loss 0.7752 Acc:0.6616\n",
            "Epoch 7 Batch 200 Loss 0.7697 Acc:0.6702\n",
            "Epoch 7 Batch 300 Loss 0.7659 Acc:0.6547\n",
            "Epoch 7 Batch 400 Loss 0.7808 Acc:0.6428\n",
            "Epoch 7 Batch 500 Loss 0.7076 Acc:0.6757\n",
            "Epoch 7 Batch 600 Loss 0.7718 Acc:0.6382\n",
            "Epoch 7 Batch 700 Loss 0.7912 Acc:0.6513\n",
            "Time taken for 1 epoch 106.3507 sec\n",
            "\n",
            "Epoch 8 Batch 0 Loss 0.6045 Acc:0.7097\n",
            "Epoch 8 Batch 100 Loss 0.5894 Acc:0.7098\n",
            "Epoch 8 Batch 200 Loss 0.6093 Acc:0.7320\n",
            "Epoch 8 Batch 300 Loss 0.6027 Acc:0.7271\n",
            "Epoch 8 Batch 400 Loss 0.6259 Acc:0.7079\n",
            "Epoch 8 Batch 500 Loss 0.6858 Acc:0.6971\n",
            "Epoch 8 Batch 600 Loss 0.6152 Acc:0.7143\n",
            "Epoch 8 Batch 700 Loss 0.6445 Acc:0.7082\n",
            "Time taken for 1 epoch 108.5804 sec\n",
            "\n",
            "Epoch 9 Batch 0 Loss 0.4937 Acc:0.7714\n",
            "Epoch 9 Batch 100 Loss 0.4924 Acc:0.7624\n",
            "Epoch 9 Batch 200 Loss 0.5888 Acc:0.7267\n",
            "Epoch 9 Batch 300 Loss 0.5557 Acc:0.7383\n",
            "Epoch 9 Batch 400 Loss 0.4985 Acc:0.7503\n",
            "Epoch 9 Batch 500 Loss 0.5635 Acc:0.7336\n",
            "Epoch 9 Batch 600 Loss 0.5365 Acc:0.7440\n",
            "Epoch 9 Batch 700 Loss 0.5531 Acc:0.7350\n",
            "Time taken for 1 epoch 107.1497 sec\n",
            "\n",
            "Epoch 10 Batch 0 Loss 0.3769 Acc:0.7990\n",
            "Epoch 10 Batch 100 Loss 0.4526 Acc:0.7727\n",
            "Epoch 10 Batch 200 Loss 0.4562 Acc:0.7881\n",
            "Epoch 10 Batch 300 Loss 0.4761 Acc:0.7630\n",
            "Epoch 10 Batch 400 Loss 0.4368 Acc:0.8008\n",
            "Epoch 10 Batch 500 Loss 0.4713 Acc:0.7666\n",
            "Epoch 10 Batch 600 Loss 0.4396 Acc:0.7776\n",
            "Epoch 10 Batch 700 Loss 0.4625 Acc:0.7865\n",
            "Time taken for 1 epoch 107.4916 sec\n",
            "\n"
          ],
          "name": "stdout"
        }
      ]
    },
    {
      "cell_type": "code",
      "metadata": {
        "colab": {
          "base_uri": "https://localhost:8080/",
          "height": 336
        },
        "id": "ATeh7SnuC-OY",
        "outputId": "ab53a1dc-9aee-4b11-c138-ab1dbe54bc75"
      },
      "source": [
        "fig, (ax1, ax2) = plt.subplots(1, 2, figsize=(15,5))\n",
        "# plot some data\n",
        "ax1.plot(losses, label='loss')\n",
        "#plt.plot(results.history['val_loss'], label='val_loss')\n",
        "ax1.set_title('Training Loss')\n",
        "ax1.legend()\n",
        "# accuracies\n",
        "ax2.plot(accuracies, label='acc')\n",
        "#plt.plot(results.history['val_accuracy_fn'], label='val_acc')\n",
        "ax2.set_title('Training Accuracy')\n",
        "ax2.legend()\n",
        "plt.show()"
      ],
      "execution_count": 28,
      "outputs": [
        {
          "output_type": "display_data",
          "data": {
            "image/png": "[encoded data removed]",
            "text/plain": [
              "<Figure size 1080x360 with 2 Axes>"
            ]
          },
          "metadata": {
            "tags": [],
            "needs_background": "light"
          }
        }
      ]
    },
    {
      "cell_type": "code",
      "metadata": {
        "id": "vKDN5aJJDBa8"
      },
      "source": [
        "# Create an Adam optimizer and clips gradients by norm\n",
        "optimizer = tf.keras.optimizers.Adam(clipnorm=5.0)\n",
        "# restoring the latest checkpoint in checkpoint_dir\n",
        "checkpoint_dir = '/content/drive/MyDrive/machine-translation/models/spa-eng/training_ckpt_seq2seq'\n",
        "checkpoint_prefix = os.path.join(checkpoint_dir, \"ckpt\")\n",
        "checkpoint = tf.train.Checkpoint(optimizer=optimizer,\n",
        "                                 encoder=encoder,\n",
        "                                 decoder=decoder)\n",
        "checkpoint.restore(tf.train.latest_checkpoint(checkpoint_dir))"
      ],
      "execution_count": null,
      "outputs": []
    },
    {
      "cell_type": "code",
      "metadata": {
        "id": "jfGDndYittjS"
      },
      "source": [
        "predicted_list = []"
      ],
      "execution_count": 54,
      "outputs": []
    },
    {
      "cell_type": "code",
      "metadata": {
        "id": "RT8GxJv1DNzw"
      },
      "source": [
        "def predict(input_text, encoder, input_max_len, tokenizer_inputs, word2idx_outputs, idx2word_outputs):\n",
        "    if input_text is None:\n",
        "        input_text = input_data[np.random.choice(len(input_data))]\n",
        "        #print(input_text)\n",
        "    # Tokenize the input sequence\n",
        "    input_seq = tokenizer_inputs.texts_to_sequences([input_text])\n",
        "    # Pad the sentence\n",
        "    input_seq = pad_sequences(input_seq, maxlen=input_max_len, padding='post')\n",
        "    #print(input_seq)\n",
        "    # Set the encoder initial state\n",
        "    en_initial_states = encoder.init_states(1)\n",
        "    en_outputs = encoder(tf.constant(input_seq), en_initial_states)\n",
        "    # Create the decoder input, the sos token\n",
        "    de_input = tf.constant([[word2idx_outputs['<sos>']]])\n",
        "    # Set the decoder states to the encoder vector or encoder hidden state\n",
        "    de_state_h, de_state_c = en_outputs[1:]\n",
        "    \n",
        "    out_words = []\n",
        "    while True:\n",
        "        # Decode and get the output probabilities\n",
        "        de_output, de_state_h, de_state_c = decoder(\n",
        "            de_input, (de_state_h, de_state_c))\n",
        "        # Select the word with the highest probability\n",
        "        de_input = tf.argmax(de_output, -1)\n",
        "        # Append the word to the predicted output\n",
        "        out_words.append(idx2word_outputs[de_input.numpy()[0][0]])\n",
        "        # Finish when eos token is found or the max length is reached\n",
        "        if out_words[-1] == '<eos>' or len(out_words) >= 20:\n",
        "            break\n",
        "    out_words = ' '.join(out_words)\n",
        "    predicted_list.append(out_words)\n",
        "    #print('Predicted English Text - ',' '.join(out_words))\n",
        "    return predicted_list"
      ],
      "execution_count": 35,
      "outputs": []
    },
    {
      "cell_type": "code",
      "metadata": {
        "colab": {
          "base_uri": "https://localhost:8080/"
        },
        "id": "dLLeNBt01A2W",
        "outputId": "5118f895-a5f2-44af-a80d-9743209cfcbb"
      },
      "source": [
        "# Preprocess the input data\n",
        "input_data_test = test[INPUT_COLUMN].apply(lambda x : preprocess_sentence(x)).tolist()\n",
        "# Preprocess and include the end of sentence token to the target text\n",
        "target_data_test = test[TARGET_COLUMN].apply(lambda x : preprocess_sentence(x)+ ' <eos>').tolist()\n",
        "# Preprocess and include a start of setence token to the input text to the decoder, it is right shifted\n",
        "target_input_data_test = test[TARGET_COLUMN].apply(lambda x : '<sos> '+ preprocess_sentence(x)).tolist()\n",
        "print(input_data_test[:10])\n",
        "print(target_data_test[:10])\n",
        "print(target_input_data_test[:10])\n"
      ],
      "execution_count": 36,
      "outputs": [
        {
          "output_type": "stream",
          "text": [
            "['¿ no puedes decidirte ?', 'tomas le ofrecio una copa de vino a maria .', 'el tambien puede hablar ruso .', 'he estado tratando de captar tu atencion .', '¿ te gusta esta cancion ?', 'esta habitacion tiene tres ventanas .', 'aqui tienes los documentos que pediste .', 'me gusta esta taza .', 'alguien la visito ayer .', '¿ lo recuerdas ?']\n",
            "['can t you make up your mind ? <eos>', 'tom offered mary a glass of wine . <eos>', 'he can speak russian as well . <eos>', 'i ve been trying to get your attention . <eos>', 'do you like that song ? <eos>', 'this room has three windows . <eos>', 'here are the documents you asked for . <eos>', 'i like this cup . <eos>', 'someone visited her yesterday . <eos>', 'do you remember ? <eos>']\n",
            "['<sos> can t you make up your mind ?', '<sos> tom offered mary a glass of wine .', '<sos> he can speak russian as well .', '<sos> i ve been trying to get your attention .', '<sos> do you like that song ?', '<sos> this room has three windows .', '<sos> here are the documents you asked for .', '<sos> i like this cup .', '<sos> someone visited her yesterday .', '<sos> do you remember ?']\n"
          ],
          "name": "stdout"
        }
      ]
    },
    {
      "cell_type": "code",
      "metadata": {
        "colab": {
          "base_uri": "https://localhost:8080/"
        },
        "id": "trS8IIEvDS9M",
        "outputId": "b65f3868-04df-4ed8-b157-fb85dcb63d15"
      },
      "source": [
        "#zipped_list = list(zip(input_data_test, target_data_test))\n",
        "#test_sent = random.sample(zipped_list, 20)\n",
        "#for test_sent in test_sent:\n",
        " #   print('Input Spanish Text - ', test_sent)\n",
        " #   predict(test_sent, encoder, input_max_len, tokenizer_inputs, word2idx_outputs, idx2word_outputs)\n",
        " #   print('\\n')\n",
        "#print(len(input_data_test))\n",
        "\n",
        "for test_sent, test_output in zip(input_data_test[:10], target_data_test[:10]):\n",
        "    print('Input Spanish Text - ', test_sent)\n",
        "    print('Target English Text - ', test_output)\n",
        "    predict(test_sent, encoder, input_max_len, tokenizer_inputs, word2idx_outputs, idx2word_outputs)\n",
        "    print('\\n')"
      ],
      "execution_count": 37,
      "outputs": [
        {
          "output_type": "stream",
          "text": [
            "Input Spanish Text -  ¿ no puedes decidirte ?\n",
            "Target English Text -  can t you make up your mind ? <eos>\n",
            "\n",
            "\n",
            "Input Spanish Text -  tomas le ofrecio una copa de vino a maria .\n",
            "Target English Text -  tom offered mary a glass of wine . <eos>\n",
            "\n",
            "\n",
            "Input Spanish Text -  el tambien puede hablar ruso .\n",
            "Target English Text -  he can speak russian as well . <eos>\n",
            "\n",
            "\n",
            "Input Spanish Text -  he estado tratando de captar tu atencion .\n",
            "Target English Text -  i ve been trying to get your attention . <eos>\n",
            "\n",
            "\n",
            "Input Spanish Text -  ¿ te gusta esta cancion ?\n",
            "Target English Text -  do you like that song ? <eos>\n",
            "\n",
            "\n",
            "Input Spanish Text -  esta habitacion tiene tres ventanas .\n",
            "Target English Text -  this room has three windows . <eos>\n",
            "\n",
            "\n",
            "Input Spanish Text -  aqui tienes los documentos que pediste .\n",
            "Target English Text -  here are the documents you asked for . <eos>\n",
            "\n",
            "\n",
            "Input Spanish Text -  me gusta esta taza .\n",
            "Target English Text -  i like this cup . <eos>\n",
            "\n",
            "\n",
            "Input Spanish Text -  alguien la visito ayer .\n",
            "Target English Text -  someone visited her yesterday . <eos>\n",
            "\n",
            "\n",
            "Input Spanish Text -  ¿ lo recuerdas ?\n",
            "Target English Text -  do you remember ? <eos>\n",
            "\n",
            "\n"
          ],
          "name": "stdout"
        }
      ]
    },
    {
      "cell_type": "code",
      "metadata": {
        "colab": {
          "base_uri": "https://localhost:8080/"
        },
        "id": "aNvaTbvftzZV",
        "outputId": "2041c53d-9d82-454f-9f35-9d578d09f758"
      },
      "source": [
        "predicted_list"
      ],
      "execution_count": 55,
      "outputs": [
        {
          "output_type": "execute_result",
          "data": {
            "text/plain": [
              "[]"
            ]
          },
          "metadata": {
            "tags": []
          },
          "execution_count": 55
        }
      ]
    },
    {
      "cell_type": "code",
      "metadata": {
        "id": "FN3S1XFOswZM"
      },
      "source": [
        "for test_sent, test_output in zip(input_data_test[:10000], target_data_test[:10000]):\n",
        "    predict(test_sent, encoder, input_max_len, tokenizer_inputs, word2idx_outputs, idx2word_outputs)"
      ],
      "execution_count": 56,
      "outputs": []
    },
    {
      "cell_type": "code",
      "metadata": {
        "colab": {
          "base_uri": "https://localhost:8080/"
        },
        "id": "PVbu5HotuOQB",
        "outputId": "71c208ae-274e-408f-be44-492aeb322c2a"
      },
      "source": [
        "print(len(predicted_list))\n",
        "predicted_list[:10]"
      ],
      "execution_count": 57,
      "outputs": [
        {
          "output_type": "stream",
          "text": [
            "10000\n"
          ],
          "name": "stdout"
        },
        {
          "output_type": "execute_result",
          "data": {
            "text/plain": [
              "['can t you lift it ? <eos>',\n",
              " 'tom offered mary a present . <eos>',\n",
              " 'he can swim , but i don t . <eos>',\n",
              " 'i ve been trying to get you all . <eos>',\n",
              " 'do you like this garden ? <eos>',\n",
              " 'this room has three rooms . <eos>',\n",
              " 'you have only one of your own mind . <eos>',\n",
              " 'i like this movie . <eos>',\n",
              " 'somebody knocked on the door . <eos>',\n",
              " 'do you remember me ? <eos>']"
            ]
          },
          "metadata": {
            "tags": []
          },
          "execution_count": 57
        }
      ]
    },
    {
      "cell_type": "code",
      "metadata": {
        "colab": {
          "base_uri": "https://localhost:8080/"
        },
        "id": "tzYpaHvUyeuE",
        "outputId": "c86ef2f6-1a99-46d9-c9ff-afdaeeb852a8"
      },
      "source": [
        "print(len(target_data_test))\n",
        "target_data_test[:10]"
      ],
      "execution_count": 58,
      "outputs": [
        {
          "output_type": "stream",
          "text": [
            "24000\n"
          ],
          "name": "stdout"
        },
        {
          "output_type": "execute_result",
          "data": {
            "text/plain": [
              "['can t you make up your mind ? <eos>',\n",
              " 'tom offered mary a glass of wine . <eos>',\n",
              " 'he can speak russian as well . <eos>',\n",
              " 'i ve been trying to get your attention . <eos>',\n",
              " 'do you like that song ? <eos>',\n",
              " 'this room has three windows . <eos>',\n",
              " 'here are the documents you asked for . <eos>',\n",
              " 'i like this cup . <eos>',\n",
              " 'someone visited her yesterday . <eos>',\n",
              " 'do you remember ? <eos>']"
            ]
          },
          "metadata": {
            "tags": []
          },
          "execution_count": 58
        }
      ]
    },
    {
      "cell_type": "markdown",
      "metadata": {
        "id": "gx-UYTe--WFQ"
      },
      "source": [
        ""
      ]
    },
    {
      "cell_type": "code",
      "metadata": {
        "id": "sgpFiTqHI-Qw"
      },
      "source": [
        "#BLEU SCORE using our own function\n",
        "#Bleu = Brevity Penalty * precision\n",
        "def brevity_penalty(reference, candidate):\n",
        "    ref_length = len(reference)\n",
        "    can_length = len(candidate)\n",
        "\n",
        "    # Brevity Penalty\n",
        "    if ref_length > can_length:\n",
        "        BP = 1\n",
        "    else:\n",
        "        penalty = 1 - (ref_length / can_length)\n",
        "        BP = np.exp(penalty)\n",
        "\n",
        "    return BP"
      ],
      "execution_count": 45,
      "outputs": []
    },
    {
      "cell_type": "code",
      "metadata": {
        "id": "3-Ok7rpEkXAm"
      },
      "source": [
        "def clipped_precision(reference, candidate):\n",
        "    \"\"\"\n",
        "    Bleu score function given a original and a machine translated sentences\n",
        "    \"\"\"\n",
        "\n",
        "    clipped_precision_score = []\n",
        "\n",
        "    for i in range(1, 5):\n",
        "        candidate_n_gram = Counter(\n",
        "            ngrams(candidate, i)\n",
        "        )  # counts of n-gram n=1...4 tokens for the candidate\n",
        "        reference_n_gram = Counter(\n",
        "            ngrams(reference, i)\n",
        "        )  # counts of n-gram n=1...4 tokens for the reference\n",
        "\n",
        "        c = sum(\n",
        "            reference_n_gram.values()\n",
        "        )  # sum of the values of the reference the denominator in the precision formula\n",
        "\n",
        "        for j in reference_n_gram:  # for every n_gram token in the reference\n",
        "            if j in candidate_n_gram:  # check if it is in the candidate n-gram\n",
        "\n",
        "                if (\n",
        "                    reference_n_gram[j] > candidate_n_gram[j]\n",
        "                ):  # if the count of the reference n-gram is bigger\n",
        "                    # than the corresponding count in the candidate n-gram\n",
        "                    reference_n_gram[j] = candidate_n_gram[\n",
        "                        j\n",
        "                    ]  # then set the count of the reference n-gram to be equal\n",
        "                    # to the count of the candidate n-gram\n",
        "            else:\n",
        "\n",
        "                reference_n_gram[j] = 0  # else reference n-gram = 0\n",
        "\n",
        "        clipped_precision_score.append(sum(reference_n_gram.values()) / c)\n",
        "\n",
        "    weights = [0.25] * 4\n",
        "\n",
        "    s = (w_i * np.log(p_i) for w_i, p_i in zip(weights, clipped_precision_score))\n",
        "    s = np.exp(np.sum(s))\n",
        "    return s"
      ],
      "execution_count": 46,
      "outputs": []
    },
    {
      "cell_type": "code",
      "metadata": {
        "id": "Zegfgt1vn6OK"
      },
      "source": [
        "def bleu_score(reference, candidate):\n",
        "    BP = brevity_penalty(reference, candidate)\n",
        "    precision = clipped_precision(reference, candidate)\n",
        "    return BP * precision"
      ],
      "execution_count": 47,
      "outputs": []
    },
    {
      "cell_type": "code",
      "metadata": {
        "colab": {
          "base_uri": "https://localhost:8080/"
        },
        "id": "aSvSKzK_n9jv",
        "outputId": "491e3f52-dbfa-410f-850a-182c9245a872"
      },
      "source": [
        "#Word Tokenizing every element in the reference and candidate list\n",
        "bleu = []\n",
        "for tokenized_ref, tokenized_can in zip(target_data_test[:10000], predicted_list): \n",
        "    score = round(bleu_score(tokenized_ref, tokenized_can) * 100, 1)\n",
        "    bleu.append(score)"
      ],
      "execution_count": 62,
      "outputs": [
        {
          "output_type": "stream",
          "text": [
            "/usr/local/lib/python3.7/dist-packages/ipykernel_launcher.py:40: DeprecationWarning: Calling np.sum(generator) is deprecated, and in the future will give a different result. Use np.sum(np.fromiter(generator)) or the python sum builtin instead.\n"
          ],
          "name": "stderr"
        }
      ]
    },
    {
      "cell_type": "code",
      "metadata": {
        "colab": {
          "base_uri": "https://localhost:8080/"
        },
        "id": "o3eVWEp7y4jH",
        "outputId": "38f2e71f-a74e-4bd0-af11-a35b36fde0bc"
      },
      "source": [
        "statistics.mean(bleu)"
      ],
      "execution_count": 63,
      "outputs": [
        {
          "output_type": "execute_result",
          "data": {
            "text/plain": [
              "58.86159"
            ]
          },
          "metadata": {
            "tags": []
          },
          "execution_count": 63
        }
      ]
    },
    {
      "cell_type": "code",
      "metadata": {
        "id": "YS_U9bMc9r-i"
      },
      "source": [
        "#SacreBleu Score\n",
        "#Word Tokenizing every element in the reference and candidate list\n",
        "bleu_score = []\n",
        "for tokenized_ref, tokenized_can in zip(target_data_test, predicted_list): \n",
        "    score = round(sacrebleu.corpus_bleu(tokenized_ref, tokenized_can).score, 1)\n",
        "    bleu_score.append(score)"
      ],
      "execution_count": 64,
      "outputs": []
    },
    {
      "cell_type": "code",
      "metadata": {
        "colab": {
          "base_uri": "https://localhost:8080/"
        },
        "id": "-6jzl-b3_VKp",
        "outputId": "1e5408f5-a7d3-4499-8f37-4cac48463fbc"
      },
      "source": [
        "statistics.mean(bleu_score)"
      ],
      "execution_count": 65,
      "outputs": [
        {
          "output_type": "execute_result",
          "data": {
            "text/plain": [
              "40.659"
            ]
          },
          "metadata": {
            "tags": []
          },
          "execution_count": 65
        }
      ]
    },
    {
      "cell_type": "code",
      "metadata": {
        "colab": {
          "base_uri": "https://localhost:8080/"
        },
        "id": "_3eeq6ViAIB5",
        "outputId": "e8d3d8f4-1a8e-49cf-becc-39a14d6fb961"
      },
      "source": [
        "#Not sure if correct. might have some error\n",
        "from nltk.translate.bleu_score import sentence_bleu\n",
        "nltk_bleu_score = []\n",
        "for tokenized_ref, tokenized_can in zip(target_data_test, predicted_list): \n",
        "    score = sentence_bleu(tokenized_ref, tokenized_can)\n",
        "    nltk_bleu_score.append(score)"
      ],
      "execution_count": 67,
      "outputs": [
        {
          "output_type": "stream",
          "text": [
            "/usr/local/lib/python3.7/dist-packages/nltk/translate/bleu_score.py:490: UserWarning: \n",
            "Corpus/Sentence contains 0 counts of 2-gram overlaps.\n",
            "BLEU scores might be undesirable; use SmoothingFunction().\n",
            "  warnings.warn(_msg)\n"
          ],
          "name": "stderr"
        }
      ]
    },
    {
      "cell_type": "code",
      "metadata": {
        "colab": {
          "base_uri": "https://localhost:8080/"
        },
        "id": "aGN8isgEBw__",
        "outputId": "a768a09f-4f20-4931-deb5-94bc38a31882"
      },
      "source": [
        "statistics.mean(nltk_bleu_score)"
      ],
      "execution_count": 68,
      "outputs": [
        {
          "output_type": "execute_result",
          "data": {
            "text/plain": [
              "0.8093876948110793"
            ]
          },
          "metadata": {
            "tags": []
          },
          "execution_count": 68
        }
      ]
    },
    {
      "cell_type": "code",
      "metadata": {
        "id": "n0wMuA2YB2dJ"
      },
      "source": [
        ""
      ],
      "execution_count": null,
      "outputs": []
    }
  ]
}